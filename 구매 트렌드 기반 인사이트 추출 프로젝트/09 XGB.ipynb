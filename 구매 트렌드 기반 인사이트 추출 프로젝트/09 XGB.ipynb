{
 "cells": [
  {
   "cell_type": "code",
   "execution_count": 2,
   "metadata": {},
   "outputs": [],
   "source": [
    "import warnings\n",
    "warnings.filterwarnings('ignore')  # 경고 메시지를 무시하여 코드 실행 시 불필요한 경고를 피하기 위함\n",
    "\n",
    "import sys\n",
    "# 디렉토리를 모듈 검색 경로에 추가하여 해당 디렉토리의 모듈을 임포트할 수 있도록 설정\n",
    "sys.path.append('./XGB/models') # 로컬에서 실행할 때 이 코드를 실행 \n",
    "sys.path.append('./XGB/datas') # 로컬에서 실행할 때 이 코드를 실행  \n",
    "\n",
    "# sys.path.append('/content/models') # Colab에서 실행 할 때 이 코드를 실행 \n",
    "# sys.path.append('/content/datas') # Colab에서 실행 할 때 이 코드를 실행  \n",
    "\n",
    "from data_loader import LoanDefaultDataLoader  \n",
    "from preprocessor import DataPreprocessor  \n",
    "from xgb_model import XGBClassifierModel\n",
    "from rf_model import RandomForestClassifierModel\n",
    "from dt_model import DecisionTreeClassifierModel\n",
    "import pandas as pd\n"
   ]
  },
  {
   "cell_type": "markdown",
   "metadata": {},
   "source": [
    "### 데이터 로드"
   ]
  },
  {
   "cell_type": "code",
   "execution_count": 3,
   "metadata": {},
   "outputs": [],
   "source": [
    "dataloder = LoanDefaultDataLoader()\n",
    "df = dataloder.load_data(\"Loan_Default.csv\")\n"
   ]
  },
  {
   "cell_type": "markdown",
   "metadata": {},
   "source": [
    "### 데이터 전처리"
   ]
  },
  {
   "cell_type": "code",
   "execution_count": 4,
   "metadata": {},
   "outputs": [
    {
     "name": "stdout",
     "output_type": "stream",
     "text": [
      "전처리 시작\n",
      "\t1. 카테고리컬 데이터를 인코딩 합니다.\n",
      "\t2. 결측치를 처리 합니다.\n",
      "\t3. 수치형 데이터를 스케일링 합니다.\n",
      "전처리 완료\n"
     ]
    }
   ],
   "source": [
    "target = 'Status'\n",
    "preprocessor = DataPreprocessor(df, target_col=target)\n",
    "preprocessor.run()\n",
    "\n",
    "X_train, X_test, y_train, y_test = preprocessor.split_data()"
   ]
  },
  {
   "cell_type": "code",
   "execution_count": 5,
   "metadata": {},
   "outputs": [
    {
     "data": {
      "text/html": [
       "<div>\n",
       "<style scoped>\n",
       "    .dataframe tbody tr th:only-of-type {\n",
       "        vertical-align: middle;\n",
       "    }\n",
       "\n",
       "    .dataframe tbody tr th {\n",
       "        vertical-align: top;\n",
       "    }\n",
       "\n",
       "    .dataframe thead th {\n",
       "        text-align: right;\n",
       "    }\n",
       "</style>\n",
       "<table border=\"1\" class=\"dataframe\">\n",
       "  <thead>\n",
       "    <tr style=\"text-align: right;\">\n",
       "      <th></th>\n",
       "      <th>Model</th>\n",
       "      <th>acc</th>\n",
       "      <th>recall</th>\n",
       "      <th>precision</th>\n",
       "      <th>f1</th>\n",
       "    </tr>\n",
       "  </thead>\n",
       "  <tbody>\n",
       "    <tr>\n",
       "      <th>0</th>\n",
       "      <td>Random Forest</td>\n",
       "      <td>0.998687</td>\n",
       "      <td>1.000000</td>\n",
       "      <td>0.994592</td>\n",
       "      <td>0.997289</td>\n",
       "    </tr>\n",
       "    <tr>\n",
       "      <th>1</th>\n",
       "      <td>Decision Tree</td>\n",
       "      <td>0.999731</td>\n",
       "      <td>0.999303</td>\n",
       "      <td>0.999582</td>\n",
       "      <td>0.999442</td>\n",
       "    </tr>\n",
       "    <tr>\n",
       "      <th>2</th>\n",
       "      <td>XGBoost</td>\n",
       "      <td>0.999865</td>\n",
       "      <td>1.000000</td>\n",
       "      <td>0.999443</td>\n",
       "      <td>0.999721</td>\n",
       "    </tr>\n",
       "  </tbody>\n",
       "</table>\n",
       "</div>"
      ],
      "text/plain": [
       "           Model       acc    recall  precision        f1\n",
       "0  Random Forest  0.998687  1.000000   0.994592  0.997289\n",
       "1  Decision Tree  0.999731  0.999303   0.999582  0.999442\n",
       "2        XGBoost  0.999865  1.000000   0.999443  0.999721"
      ]
     },
     "execution_count": 5,
     "metadata": {},
     "output_type": "execute_result"
    }
   ],
   "source": [
    "models = [\n",
    "    (RandomForestClassifierModel, \"Random Forest\"), \n",
    "    (DecisionTreeClassifierModel, \"Decision Tree\"),\n",
    "    (XGBClassifierModel, \"XGBoost\")\n",
    "    ]\n",
    "\n",
    "results = []\n",
    "\n",
    "for model_class, model_name in models:\n",
    "    model = model_class()\n",
    "    model.fit(X_train, y_train)\n",
    "    y_pred = model.predict(X_test)\n",
    "    metrics = model.evaluate(y_test, y_pred)\n",
    "    result = {\"Model\": model_name}\n",
    "    result.update(metrics)\n",
    "    results.append(result)\n",
    "\n",
    "results_df = pd.DataFrame(results)\n",
    "results_df\n"
   ]
  }
 ],
 "metadata": {
  "kernelspec": {
   "display_name": "supernova",
   "language": "python",
   "name": "python3"
  },
  "language_info": {
   "codemirror_mode": {
    "name": "ipython",
    "version": 3
   },
   "file_extension": ".py",
   "mimetype": "text/x-python",
   "name": "python",
   "nbconvert_exporter": "python",
   "pygments_lexer": "ipython3",
   "version": "3.12.8"
  }
 },
 "nbformat": 4,
 "nbformat_minor": 2
}
