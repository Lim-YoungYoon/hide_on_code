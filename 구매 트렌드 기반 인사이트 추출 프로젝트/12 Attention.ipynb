{
 "cells": [
  {
   "cell_type": "markdown",
   "metadata": {},
   "source": [
    "### 1.기본 라이브러리 임포트"
   ]
  },
  {
   "cell_type": "code",
   "execution_count": 2,
   "metadata": {
    "executionInfo": {
     "elapsed": 304,
     "status": "ok",
     "timestamp": 1738311171848,
     "user": {
      "displayName": "chioh song",
      "userId": "05482793768581925652"
     },
     "user_tz": -540
    },
    "id": "eej-wb9pN3tY"
   },
   "outputs": [],
   "source": [
    "import torch\n",
    "import torch.nn as nn\n",
    "import torch.nn.functional as F\n",
    "\n",
    "import numpy as np\n",
    "import matplotlib.pyplot as plt\n",
    "import seaborn as sns"
   ]
  },
  {
   "cell_type": "markdown",
   "metadata": {
    "id": "WAsSiQpBTHt2"
   },
   "source": [
    "### 2. 데이터 준비 및 어휘 사전 생성"
   ]
  },
  {
   "cell_type": "code",
   "execution_count": 3,
   "metadata": {
    "colab": {
     "base_uri": "https://localhost:8080/"
    },
    "executionInfo": {
     "elapsed": 301,
     "status": "ok",
     "timestamp": 1738311172621,
     "user": {
      "displayName": "chioh song",
      "userId": "05482793768581925652"
     },
     "user_tz": -540
    },
    "id": "cvh-450AN5KT",
    "outputId": "bfc4792b-2d06-4c69-9531-d97f5152be69"
   },
   "outputs": [
    {
     "name": "stdout",
     "output_type": "stream",
     "text": [
      "word_to_idx: {'나는': 0, '학교에': 1, '가고': 2, '있다': 3}\n",
      "idx_to_word: {0: '나는', 1: '학교에', 2: '가고', 3: '있다'}\n"
     ]
    }
   ],
   "source": [
    "# 단어 시퀀스 데이터 준비\n",
    "words = ['나는', '학교에', '가고', '있다']\n",
    "word_to_idx = {word: idx for idx, word in enumerate(words)}\n",
    "idx_to_word = {idx: word for word, idx in word_to_idx.items()}\n",
    "\n",
    "print(\"word_to_idx:\", word_to_idx)\n",
    "print(\"idx_to_word:\", idx_to_word)"
   ]
  },
  {
   "cell_type": "markdown",
   "metadata": {
    "id": "5ZvisQzkTHt3"
   },
   "source": [
    "### 3. 임베딩(Embedding) 레이어 생성"
   ]
  },
  {
   "cell_type": "code",
   "execution_count": 4,
   "metadata": {
    "colab": {
     "base_uri": "https://localhost:8080/"
    },
    "executionInfo": {
     "elapsed": 307,
     "status": "ok",
     "timestamp": 1738311176371,
     "user": {
      "displayName": "chioh song",
      "userId": "05482793768581925652"
     },
     "user_tz": -540
    },
    "id": "k-dML2OtN7_p",
    "outputId": "813b7f18-69c1-4e77-a219-5abc9da3567c"
   },
   "outputs": [],
   "source": [
    "# 임베딩 차원 설정 (예: 5차원)\n",
    "embedding_dim = 5\n",
    "# 어휘 사전의 크기\n",
    "vocab_size = len(words)\n",
    "\n",
    "# PyTorch 임베딩 레이어 생성\n",
    "# nn.Embedding(num_embeddings, embedding_dim)\n",
    "embedding = nn.Embedding(vocab_size, embedding_dim)"
   ]
  },
  {
   "cell_type": "markdown",
   "metadata": {
    "id": "5P4FrW2RTHt3"
   },
   "source": [
    "### 4. 입력 시퀀스 생성"
   ]
  },
  {
   "cell_type": "code",
   "execution_count": 5,
   "metadata": {
    "colab": {
     "base_uri": "https://localhost:8080/"
    },
    "executionInfo": {
     "elapsed": 350,
     "status": "ok",
     "timestamp": 1738311178120,
     "user": {
      "displayName": "chioh song",
      "userId": "05482793768581925652"
     },
     "user_tz": -540
    },
    "id": "a_5mHDFCOBkz",
    "outputId": "a6830a81-0f67-4364-ee96-552e7bb37f81"
   },
   "outputs": [
    {
     "name": "stdout",
     "output_type": "stream",
     "text": [
      "input_sequence_:\n",
      " tensor([[0, 1, 2, 3],\n",
      "        [1, 2, 3, 0]])\n"
     ]
    }
   ],
   "source": [
    "# 입력 시퀀스 (배치 크기 = 2)\n",
    "# 1) \"나는 학교에 가고 있다\"\n",
    "# 2) \"학교에 가고 있다 나는\"\n",
    "input_sequence = [\n",
    "    [word_to_idx['나는'], word_to_idx['학교에'], word_to_idx['가고'], word_to_idx['있다']],\n",
    "    [word_to_idx['학교에'], word_to_idx['가고'], word_to_idx['있다'], word_to_idx['나는']]\n",
    "]\n",
    "\n",
    "# PyTorch 텐서로 변환\n",
    "input_sequence_ = torch.tensor(input_sequence, dtype=torch.long)\n",
    "\n",
    "print(\"input_sequence_:\\n\", input_sequence_)"
   ]
  },
  {
   "cell_type": "markdown",
   "metadata": {
    "id": "R1TT0caZTHt3"
   },
   "source": [
    "### 5. 입력 시퀀스를 임베딩"
   ]
  },
  {
   "cell_type": "code",
   "execution_count": 6,
   "metadata": {
    "colab": {
     "base_uri": "https://localhost:8080/"
    },
    "executionInfo": {
     "elapsed": 320,
     "status": "ok",
     "timestamp": 1738311180381,
     "user": {
      "displayName": "chioh song",
      "userId": "05482793768581925652"
     },
     "user_tz": -540
    },
    "id": "NMbau2SuOEy_",
    "outputId": "74a0744b-7d63-49fb-ccd0-3920c90cfe0a"
   },
   "outputs": [
    {
     "name": "stdout",
     "output_type": "stream",
     "text": [
      "embedded_sequence.shape: torch.Size([2, 4, 5])\n",
      "tensor([[[-0.8126, -1.0095,  0.5978,  1.1019,  0.1622],\n",
      "         [-0.5456,  2.2800,  0.4656,  0.1444, -0.5779],\n",
      "         [ 1.2927,  1.0273, -0.1111,  0.5597,  0.5014],\n",
      "         [ 0.0761,  0.0315, -1.6356, -0.2700,  1.7215]],\n",
      "\n",
      "        [[-0.5456,  2.2800,  0.4656,  0.1444, -0.5779],\n",
      "         [ 1.2927,  1.0273, -0.1111,  0.5597,  0.5014],\n",
      "         [ 0.0761,  0.0315, -1.6356, -0.2700,  1.7215],\n",
      "         [-0.8126, -1.0095,  0.5978,  1.1019,  0.1622]]],\n",
      "       grad_fn=<EmbeddingBackward0>)\n"
     ]
    }
   ],
   "source": [
    "# (batch_size=2, sequence_length=4, embedding_dim=5)\n",
    "embedded_sequence = embedding(input_sequence_)\n",
    "print(\"embedded_sequence.shape:\", embedded_sequence.shape)\n",
    "print(embedded_sequence)"
   ]
  },
  {
   "cell_type": "markdown",
   "metadata": {
    "id": "wGPY83QcTHt3"
   },
   "source": [
    "### 6. 쿼리 벡터 생성"
   ]
  },
  {
   "cell_type": "code",
   "execution_count": 7,
   "metadata": {
    "colab": {
     "base_uri": "https://localhost:8080/"
    },
    "executionInfo": {
     "elapsed": 326,
     "status": "ok",
     "timestamp": 1738311181946,
     "user": {
      "displayName": "chioh song",
      "userId": "05482793768581925652"
     },
     "user_tz": -540
    },
    "id": "4fRnBNMkOGOv",
    "outputId": "002819ec-aef8-48c1-fa6f-68b1c9a73284"
   },
   "outputs": [
    {
     "name": "stdout",
     "output_type": "stream",
     "text": [
      "query.shape: torch.Size([2, 5])\n",
      "tensor([[-0.8126, -1.0095,  0.5978,  1.1019,  0.1622],\n",
      "        [-0.5456,  2.2800,  0.4656,  0.1444, -0.5779]],\n",
      "       grad_fn=<SliceBackward0>)\n"
     ]
    }
   ],
   "source": [
    "# 쿼리 벡터를 첫 번째 토큰의 임베딩으로 선택\n",
    "# 첫 번째 문장: \"나는\", 두 번째 문장: \"학교에\"\n",
    "# shape: (2, 5)\n",
    "query = embedded_sequence[:, 0, :] #(batch_size, sequence_length, embedding_dim)\n",
    "print(\"query.shape:\", query.shape)\n",
    "print(query)"
   ]
  },
  {
   "cell_type": "markdown",
   "metadata": {
    "id": "RCLsiXyUTHt3"
   },
   "source": [
    "### 7. 간단한 어텐션(SimpleAttention) 레이어 구현\n"
   ]
  },
  {
   "cell_type": "code",
   "execution_count": 8,
   "metadata": {
    "executionInfo": {
     "elapsed": 314,
     "status": "ok",
     "timestamp": 1738311184902,
     "user": {
      "displayName": "chioh song",
      "userId": "05482793768581925652"
     },
     "user_tz": -540
    },
    "id": "8PKOGno0OAWZ"
   },
   "outputs": [
    {
     "name": "stdout",
     "output_type": "stream",
     "text": [
      "context_vector.shape: torch.Size([2, 5])\n",
      "attention_weights.shape: torch.Size([2, 4, 1])\n"
     ]
    }
   ],
   "source": [
    "# Attention 학습 방법\n",
    "# 1. Query, Key, Value 벡터 준비\n",
    "#    - Query: 현재 디코더의 은닉 상태 (찾고자 하는 정보)\n",
    "#    - Key: 인코더의 은닉 상태들 (참조할 정보)\n",
    "#    - Value: 실제 입력 시퀀스의 정보\n",
    "\n",
    "# 2. Attention Score 계산\n",
    "#    - Query와 Key 사이의 유사도를 내적으로 계산\n",
    "#    - 내적값이 클수록 두 벡터가 유사하며 해당 위치의 정보가 중요\n",
    "\n",
    "# 3. Attention Weight 계산\n",
    "#    - Score에 Softmax 적용하여 확률 분포로 변환\n",
    "#    - 모든 가중치의 합이 1이 되도록 정규화\n",
    "\n",
    "# 4. Context Vector 생성\n",
    "#    - Attention Weight와 Value를 가중합하여 최종 Context Vector 생성\n",
    "#    - 중요한 정보가 강조된 표현을 얻음\n",
    "\n",
    "class SimpleAttention(nn.Module):\n",
    "    def __init__(self, units):\n",
    "        super(SimpleAttention, self).__init__()\n",
    "\n",
    "        # units 인자는 Attention 메커니즘에서 사용할 은닉층의 크기를 지정합니다.\n",
    "        # 이 값은 Query와 Key를 동일한 차원으로 변환할 때 사용됩니다.\n",
    "        # Query와 Key를 동일한 차원(units)으로 변환하는 Layer\n",
    "        self.W1 = nn.Linear(units, units)\n",
    "        # Attention score를 1차원으로 압축하는 Layer\n",
    "        self.W2 = nn.Linear(units, 1)\n",
    "\n",
    "    def forward(self, query, values):\n",
    "        \"\"\"\n",
    "        query: (batch_size, embedding_dim)\n",
    "        values: (batch_size, seq_len, embedding_dim)\n",
    "        \"\"\"\n",
    "        # 1) query에 시간축 차원 추가: (batch_size, 1, embedding_dim)\n",
    "        query_with_time_axis = query.unsqueeze(1)\n",
    "\n",
    "        # 2) 내적 기반 Attention Score 계산\n",
    "        #    - query와 values 모두 W1 통과 → (batch_size, seq_len, units)\n",
    "        #    - element-wise 곱(tanh) → (batch_size, seq_len, units)\n",
    "        #    - W2를 거쳐 최종 score → (batch_size, seq_len, 1)\n",
    "        score = self.W2(torch.tanh(self.W1(query_with_time_axis) * self.W1(values)))\n",
    "\n",
    "        # 3) softmax로 가중치 계산 (seq_len 방향으로)\n",
    "        attention_weights = F.softmax(score, dim=1)  # (batch_size, seq_len, 1)\n",
    "\n",
    "        # 4) context vector = 가중치 * values의 가중합\n",
    "        #    - (batch_size, seq_len, embedding_dim)\n",
    "        context_vector = attention_weights * values\n",
    "        #    - (batch_size, embedding_dim)\n",
    "        context_vector = torch.sum(context_vector, dim=1)\n",
    "\n",
    "        return context_vector, attention_weights\n",
    "\n",
    "# embedding_dim을 units로 사용하여 Query와 Key의 차원을 맞춤\n",
    "# Query와 Key의 차원을 맞춰주는 이유:\n",
    "# 1. Attention Score 계산 시 내적 연산을 수행하기 위해서는 두 벡터의 차원이 동일해야 함\n",
    "# 2. SimpleAttention 클래스의 call() 메서드에서 self.W1을 통해 Query와 Key를 동일한 차원(units)으로 변환\n",
    "# 3. 이후 변환된 벡터들의 내적으로 유사도를 계산하여 Attention Score를 얻음\n",
    "# 따라서 embedding_dim을 units 파라미터로 사용하여 Query와 Key의 차원을 동일하게 맞춰줌\n",
    "\n",
    "\n",
    "# embedding_dim = 5를 동일하게 사용\n",
    "attention_layer = SimpleAttention(embedding_dim)\n",
    "\n",
    "# 어텐션 레이어 적용\n",
    "context_vector, attention_weights = attention_layer(query, embedded_sequence)\n",
    "\n",
    "print(\"context_vector.shape:\", context_vector.shape)     # (2, 5)\n",
    "print(\"attention_weights.shape:\", attention_weights.shape)  # (2, 4, 1)"
   ]
  },
  {
   "cell_type": "markdown",
   "metadata": {},
   "source": [
    "### 8. 결과 확인 (어텐션 가중치)"
   ]
  },
  {
   "cell_type": "code",
   "execution_count": 10,
   "metadata": {
    "id": "c2Yx38XJOqIm"
   },
   "outputs": [
    {
     "name": "stdout",
     "output_type": "stream",
     "text": [
      "\n",
      "=== 어텐션 결과 ===\n",
      "\n",
      "문장 1의 각 단어에 대한 attention 가중치:\n",
      "나는: 0.312\n",
      "학교에: 0.230\n",
      "가고: 0.199\n",
      "있다: 0.259\n",
      "\n",
      "문장 2의 각 단어에 대한 attention 가중치:\n",
      "나는: 0.160\n",
      "학교에: 0.278\n",
      "가고: 0.328\n",
      "있다: 0.234\n"
     ]
    }
   ],
   "source": [
    "print(\"\\n=== 어텐션 결과 ===\")\n",
    "for i in range(2):\n",
    "    print(f\"\\n문장 {i+1}의 각 단어에 대한 attention 가중치:\")\n",
    "    for j in range(len(words)):\n",
    "        # attention_weights[i][j] == shape: (1,)\n",
    "        weight = attention_weights[i][j].item()\n",
    "        print(f\"{idx_to_word[j]}: {weight:.3f}\")\n"
   ]
  },
  {
   "cell_type": "code",
   "execution_count": null,
   "metadata": {
    "colab": {
     "base_uri": "https://localhost:8080/"
    },
    "executionInfo": {
     "elapsed": 304,
     "status": "ok",
     "timestamp": 1738307989881,
     "user": {
      "displayName": "chioh song",
      "userId": "05482793768581925652"
     },
     "user_tz": -540
    },
    "id": "49RFv2EQOr-7",
    "outputId": "9b8da51d-aa69-4b6a-e00a-f8b375c71443"
   },
   "outputs": [],
   "source": [
    "print(\"\\nAttention 가중치:\")\n",
    "for i in range(2):\n",
    "    print(f\"\\n문장 {i+1}의 각 단어에 대한 attention 가중치:\")\n",
    "    for j, word in enumerate(words):\n",
    "        weight = attention_weights[i][j].numpy()[0]\n",
    "        print(f\"{idx_to_word[j]}: {weight:.3f}\")"
   ]
  },
  {
   "cell_type": "markdown",
   "metadata": {
    "id": "Boa72iEjVBHa"
   },
   "source": [
    "### 9. nn.MultiheadAttention를 사용한 더 간단한 예시"
   ]
  },
  {
   "cell_type": "markdown",
   "metadata": {},
   "source": [
    "#### 9.1 예시 문장 준비"
   ]
  },
  {
   "cell_type": "code",
   "execution_count": 11,
   "metadata": {
    "colab": {
     "base_uri": "https://localhost:8080/"
    },
    "executionInfo": {
     "elapsed": 337,
     "status": "ok",
     "timestamp": 1738310917719,
     "user": {
      "displayName": "chioh song",
      "userId": "05482793768581925652"
     },
     "user_tz": -540
    },
    "id": "xLdyW2hUVBHa",
    "outputId": "7c6aaccf-3df8-487f-fb31-e285517c1852"
   },
   "outputs": [
    {
     "name": "stdout",
     "output_type": "stream",
     "text": [
      "input_sequence:\n",
      " tensor([[0, 1, 2, 3, 4, 5, 6, 7, 8, 9],\n",
      "        [2, 3, 4, 5, 6, 7, 8, 9, 9, 9]])\n"
     ]
    }
   ],
   "source": [
    "# 새로운 단어 목록\n",
    "words = ['cat', 'saw', 'fish', 'in', 'the', 'pond', 'and', 'decided', 'to', 'catch']\n",
    "word_to_idx = {word: idx for idx, word in enumerate(words)}\n",
    "idx_to_word = {idx: word for word, idx in word_to_idx.items()}\n",
    "\n",
    "# 2개 문장으로 구성된 입력 시퀀스\n",
    "# 첫 번째 문장: cat saw fish in the pond and decided to catch\n",
    "# 두 번째 문장: fish in the pond and decided to catch catch catch\n",
    "input_sequence = torch.tensor([\n",
    "    [0, 1, 2, 3, 4, 5, 6, 7, 8, 9],\n",
    "    [2, 3, 4, 5, 6, 7, 8, 9, 9, 9]\n",
    "], dtype=torch.long)\n",
    "\n",
    "print(\"input_sequence:\\n\", input_sequence)"
   ]
  },
  {
   "cell_type": "markdown",
   "metadata": {},
   "source": [
    "#### 9.2. 임베딩"
   ]
  },
  {
   "cell_type": "code",
   "execution_count": 12,
   "metadata": {},
   "outputs": [
    {
     "name": "stdout",
     "output_type": "stream",
     "text": [
      "embedded_sequence.shape: torch.Size([2, 10, 10])\n"
     ]
    }
   ],
   "source": [
    "embedding_dim = 10\n",
    "embedding_layer = nn.Embedding(num_embeddings=len(words), embedding_dim=embedding_dim)\n",
    "\n",
    "embedded_sequence = embedding_layer(input_sequence)\n",
    "print(\"embedded_sequence.shape:\", embedded_sequence.shape)  # (batch_size=2, seq_len=10, embedding_dim=10)"
   ]
  },
  {
   "cell_type": "markdown",
   "metadata": {},
   "source": [
    "#### 9.3. Query 벡터 생성"
   ]
  },
  {
   "cell_type": "code",
   "execution_count": 13,
   "metadata": {},
   "outputs": [
    {
     "name": "stdout",
     "output_type": "stream",
     "text": [
      "query.shape: torch.Size([2, 10])\n"
     ]
    }
   ],
   "source": [
    "# 임의의 쿼리 벡터 (batch_size=2, embedding_dim=10)\n",
    "query = torch.randn(2, embedding_dim)\n",
    "print(\"query.shape:\", query.shape)"
   ]
  },
  {
   "cell_type": "markdown",
   "metadata": {},
   "source": [
    "#### 9.4. nn.MultiheadAttention 사용"
   ]
  },
  {
   "cell_type": "code",
   "execution_count": 14,
   "metadata": {
    "colab": {
     "base_uri": "https://localhost:8080/"
    },
    "executionInfo": {
     "elapsed": 347,
     "status": "ok",
     "timestamp": 1738310920066,
     "user": {
      "displayName": "chioh song",
      "userId": "05482793768581925652"
     },
     "user_tz": -540
    },
    "id": "vfYsfxJBNr7t",
    "outputId": "72067731-f07c-4a97-8f53-c3261223b138"
   },
   "outputs": [
    {
     "name": "stdout",
     "output_type": "stream",
     "text": [
      "attn_output.shape: torch.Size([2, 1, 10])\n",
      "attn_weights.shape: torch.Size([2, 1, 10])\n"
     ]
    }
   ],
   "source": [
    "# PyTorch의 nn.MultiheadAttention는 입력 텐서의 shape을\n",
    "# (sequence_length, batch_size, embedding_dim) 형태로 받습니다.\n",
    "# batch_first=True 옵션을 주면\n",
    "# (batch_size, sequence_length, embedding_dim) 형태로도 가능합니다.\n",
    "\n",
    "# 아래 예시에서는 batch_first=True를 사용해\n",
    "# 우리의 입력 shape인 (2, 10, 10)을 그대로 처리할 수 있게 합니다.\n",
    "\n",
    "# MultiheadAttention 예시 (단일 헤드 사용)\n",
    "multihead_attn = nn.MultiheadAttention(embed_dim=embedding_dim, num_heads=1, batch_first=True)\n",
    "\n",
    "# 쿼리도 shape을 (2, 1, 10)으로 만들어서 입력 (batch_size=2, seq_len_q=1, embed_dim=10)\n",
    "query_with_time_axis = query.unsqueeze(1)\n",
    "\n",
    "# 여기서는 Query, Key, Value를 모두 같은 임베딩 시퀀스로 사용(자기 자신에 대한 어텐션, Self-Attention 형태)\n",
    "attn_output, attn_weights = multihead_attn(query_with_time_axis, embedded_sequence, embedded_sequence)\n",
    "\n",
    "\n",
    "# attn_output\n",
    "# (batch_size, seq_len_q, embed_dim)\n",
    "# 현재는 쿼리 길이가 1이므로 (2, 1, 10)\n",
    "\n",
    "# attn_weights\n",
    "# (batch_size, seq_len_q, seq_len_k)\n",
    "# 가중치는 한 문장(길이 1)에서 각 Key 토큰(길이 10)으로 분산된 값\n",
    "# 따라서 (2, 1, 10)\n",
    "\n",
    "print(\"attn_output.shape:\", attn_output.shape)    # (batch_size=2, seq_len_q=1, embed_dim=10)\n",
    "print(\"attn_weights.shape:\", attn_weights.shape)  # (batch_size=2, seq_len_q=1, seq_len_k=10)"
   ]
  },
  {
   "cell_type": "markdown",
   "metadata": {},
   "source": [
    "#### 9.5. 어텐션 가중치 시각화"
   ]
  },
  {
   "cell_type": "code",
   "execution_count": null,
   "metadata": {
    "colab": {
     "base_uri": "https://localhost:8080/",
     "height": 507
    },
    "executionInfo": {
     "elapsed": 2383,
     "status": "ok",
     "timestamp": 1738310974878,
     "user": {
      "displayName": "chioh song",
      "userId": "05482793768581925652"
     },
     "user_tz": -540
    },
    "id": "H-jIf5QpXjp3",
    "outputId": "1a98b909-8007-4c90-d3b8-92a762437c51"
   },
   "outputs": [
    {
     "data": {
      "image/png": "[encoded data removed]",
      "text/plain": [
       "<Figure size 1000x500 with 4 Axes>"
      ]
     },
     "metadata": {},
     "output_type": "display_data"
    }
   ],
   "source": [
    "# 2차원으로 shape을 줄여서 (2, 10)\n",
    "# 문장이 2개, 각 문장에 대해 10개 단어의 가중치\n",
    "attn_weights_2d = attn_weights.squeeze(1)  # (2, 10)\n",
    "\n",
    "plt.figure(figsize=(10, 5))\n",
    "\n",
    "# 첫 번째 문장 어텐션 가중치\n",
    "plt.subplot(2, 1, 1)\n",
    "sns.heatmap(\n",
    "    attn_weights_2d[0].unsqueeze(0).detach().numpy(),\n",
    "    # xticklabels=[idx_to_word[i] for i in input_sequence[0]], <- PyTorch 텐서는 일반 파이썬의 정수가 아니므로, item() 메서드로 텐서 값을 정수로 꺼내 딕셔너리에 접근해야 합니다.\n",
    "    xticklabels=[idx_to_word[i.item()] for i in input_sequence[0]],\n",
    "    yticklabels=['Sentence 1'],\n",
    "    annot=True\n",
    ")\n",
    "plt.title('Attention Weights of First Sentence')\n",
    "\n",
    "# 두 번째 문장 어텐션 가중치\n",
    "plt.subplot(2, 1, 2)\n",
    "sns.heatmap(\n",
    "    attn_weights_2d[1].unsqueeze(0).detach().numpy(),\n",
    "    # xticklabels=[idx_to_word[i] for i in input_sequence[1]], <- PyTorch 텐서는 일반 파이썬의 정수가 아니므로, item() 메서드로 텐서 값을 정수로 꺼내 딕셔너리에 접근해야 합니다.\n",
    "    xticklabels=[idx_to_word[i.item()] for i in input_sequence[1]],\n",
    "    yticklabels=['Sentence 2'],\n",
    "    annot=True\n",
    ")\n",
    "plt.title('Attention Weights of Second Sentence')\n",
    "\n",
    "plt.tight_layout()\n",
    "plt.show()"
   ]
  },
  {
   "cell_type": "markdown",
   "metadata": {},
   "source": [
    "히트맵 시각화 결과 분석\n",
    "\n",
    "1. 두 문장의 Attention 가중치가 비슷한 패턴을 보이는 이유:\n",
    "   - 현재 구현된 기본 Attention 모델은 단순히 단어 임베딩 간의 유사도만을 계산\n",
    "   - 문맥적 정보나 위치 정보를 고려하지 않음\n",
    "   - 실제 자연어의 문맥적 의미를 충분히 반영하지 못함\n",
    "2. 개선 방안:\n",
    "   - Positional Encoding을 추가하여 단어의 위치 정보 반영\n",
    "   - Self-Attention 메커니즘 도입\n",
    "   - Multi-head Attention 사용으로 다양한 관점에서의 관계 파악\n"
   ]
  },
  {
   "cell_type": "markdown",
   "metadata": {},
   "source": [
    "#### 텐서플로우와 파이토치가 가중치를 초기화 해주는 방식이 달라서 입니다! 초기 가중치가 다르기에 서로 다르게 나올 수 있습니다 🙂"
   ]
  }
 ],
 "metadata": {
  "colab": {
   "provenance": []
  },
  "kernelspec": {
   "display_name": "supernova",
   "language": "python",
   "name": "python3"
  },
  "language_info": {
   "codemirror_mode": {
    "name": "ipython",
    "version": 3
   },
   "file_extension": ".py",
   "mimetype": "text/x-python",
   "name": "python",
   "nbconvert_exporter": "python",
   "pygments_lexer": "ipython3",
   "version": "3.12.8"
  }
 },
 "nbformat": 4,
 "nbformat_minor": 0
}
