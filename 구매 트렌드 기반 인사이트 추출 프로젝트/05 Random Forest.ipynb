{
 "cells": [
  {
   "cell_type": "code",
   "execution_count": 1,
   "metadata": {},
   "outputs": [],
   "source": [
    "import numpy as np\n",
    "import pandas as pd\n",
    "\n",
    "import matplotlib.pyplot as plt\n",
    "import seaborn as sns\n",
    "\n",
    "from sklearn.ensemble import RandomForestClassifier\n",
    "from sklearn.metrics import accuracy_score, recall_score, precision_score, f1_score\n",
    "from sklearn.model_selection import train_test_split, KFold\n",
    "from sklearn.preprocessing import StandardScaler\n",
    "\n",
    "\n",
    "import warnings\n",
    "warnings.filterwarnings('ignore')"
   ]
  },
  {
   "cell_type": "markdown",
   "metadata": {},
   "source": [
    "# 데이터 불러오기"
   ]
  },
  {
   "cell_type": "code",
   "execution_count": 2,
   "metadata": {},
   "outputs": [
    {
     "data": {
      "text/html": [
       "<div>\n",
       "<style scoped>\n",
       "    .dataframe tbody tr th:only-of-type {\n",
       "        vertical-align: middle;\n",
       "    }\n",
       "\n",
       "    .dataframe tbody tr th {\n",
       "        vertical-align: top;\n",
       "    }\n",
       "\n",
       "    .dataframe thead th {\n",
       "        text-align: right;\n",
       "    }\n",
       "</style>\n",
       "<table border=\"1\" class=\"dataframe\">\n",
       "  <thead>\n",
       "    <tr style=\"text-align: right;\">\n",
       "      <th></th>\n",
       "      <th>Survived</th>\n",
       "      <th>Pclass</th>\n",
       "      <th>Sex</th>\n",
       "      <th>Age</th>\n",
       "      <th>SibSp</th>\n",
       "      <th>Parch</th>\n",
       "      <th>Fare</th>\n",
       "      <th>Title_Master</th>\n",
       "      <th>Title_Miss</th>\n",
       "      <th>Title_Mr</th>\n",
       "      <th>Title_Mrs</th>\n",
       "      <th>Title_Other</th>\n",
       "      <th>Embarked_C</th>\n",
       "      <th>Embarked_Q</th>\n",
       "      <th>Embarked_S</th>\n",
       "    </tr>\n",
       "  </thead>\n",
       "  <tbody>\n",
       "    <tr>\n",
       "      <th>0</th>\n",
       "      <td>0</td>\n",
       "      <td>3</td>\n",
       "      <td>0</td>\n",
       "      <td>22.0</td>\n",
       "      <td>1</td>\n",
       "      <td>0</td>\n",
       "      <td>7.2500</td>\n",
       "      <td>False</td>\n",
       "      <td>False</td>\n",
       "      <td>True</td>\n",
       "      <td>False</td>\n",
       "      <td>False</td>\n",
       "      <td>False</td>\n",
       "      <td>False</td>\n",
       "      <td>True</td>\n",
       "    </tr>\n",
       "    <tr>\n",
       "      <th>1</th>\n",
       "      <td>1</td>\n",
       "      <td>1</td>\n",
       "      <td>1</td>\n",
       "      <td>38.0</td>\n",
       "      <td>1</td>\n",
       "      <td>0</td>\n",
       "      <td>71.2833</td>\n",
       "      <td>False</td>\n",
       "      <td>False</td>\n",
       "      <td>False</td>\n",
       "      <td>True</td>\n",
       "      <td>False</td>\n",
       "      <td>True</td>\n",
       "      <td>False</td>\n",
       "      <td>False</td>\n",
       "    </tr>\n",
       "    <tr>\n",
       "      <th>2</th>\n",
       "      <td>1</td>\n",
       "      <td>3</td>\n",
       "      <td>1</td>\n",
       "      <td>26.0</td>\n",
       "      <td>0</td>\n",
       "      <td>0</td>\n",
       "      <td>7.9250</td>\n",
       "      <td>False</td>\n",
       "      <td>True</td>\n",
       "      <td>False</td>\n",
       "      <td>False</td>\n",
       "      <td>False</td>\n",
       "      <td>False</td>\n",
       "      <td>False</td>\n",
       "      <td>True</td>\n",
       "    </tr>\n",
       "    <tr>\n",
       "      <th>3</th>\n",
       "      <td>1</td>\n",
       "      <td>1</td>\n",
       "      <td>1</td>\n",
       "      <td>35.0</td>\n",
       "      <td>1</td>\n",
       "      <td>0</td>\n",
       "      <td>53.1000</td>\n",
       "      <td>False</td>\n",
       "      <td>False</td>\n",
       "      <td>False</td>\n",
       "      <td>True</td>\n",
       "      <td>False</td>\n",
       "      <td>False</td>\n",
       "      <td>False</td>\n",
       "      <td>True</td>\n",
       "    </tr>\n",
       "    <tr>\n",
       "      <th>4</th>\n",
       "      <td>0</td>\n",
       "      <td>3</td>\n",
       "      <td>0</td>\n",
       "      <td>35.0</td>\n",
       "      <td>0</td>\n",
       "      <td>0</td>\n",
       "      <td>8.0500</td>\n",
       "      <td>False</td>\n",
       "      <td>False</td>\n",
       "      <td>True</td>\n",
       "      <td>False</td>\n",
       "      <td>False</td>\n",
       "      <td>False</td>\n",
       "      <td>False</td>\n",
       "      <td>True</td>\n",
       "    </tr>\n",
       "  </tbody>\n",
       "</table>\n",
       "</div>"
      ],
      "text/plain": [
       "   Survived  Pclass  Sex   Age  SibSp  Parch     Fare  Title_Master  \\\n",
       "0         0       3    0  22.0      1      0   7.2500         False   \n",
       "1         1       1    1  38.0      1      0  71.2833         False   \n",
       "2         1       3    1  26.0      0      0   7.9250         False   \n",
       "3         1       1    1  35.0      1      0  53.1000         False   \n",
       "4         0       3    0  35.0      0      0   8.0500         False   \n",
       "\n",
       "   Title_Miss  Title_Mr  Title_Mrs  Title_Other  Embarked_C  Embarked_Q  \\\n",
       "0       False      True      False        False       False       False   \n",
       "1       False     False       True        False        True       False   \n",
       "2        True     False      False        False       False       False   \n",
       "3       False     False       True        False       False       False   \n",
       "4       False      True      False        False       False       False   \n",
       "\n",
       "   Embarked_S  \n",
       "0        True  \n",
       "1       False  \n",
       "2        True  \n",
       "3        True  \n",
       "4        True  "
      ]
     },
     "execution_count": 2,
     "metadata": {},
     "output_type": "execute_result"
    }
   ],
   "source": [
    "# 데이터 불러오기\n",
    "titanic_cleaned = pd.read_csv('titanic_cleaned.csv')\n",
    "\n",
    "# 데이터 확인\n",
    "titanic_cleaned.head()\n"
   ]
  },
  {
   "cell_type": "markdown",
   "metadata": {},
   "source": [
    "# 특성과 타겟 변수 분리"
   ]
  },
  {
   "cell_type": "code",
   "execution_count": 3,
   "metadata": {},
   "outputs": [],
   "source": [
    "def split_features_and_target(data):\n",
    "    \"\"\"특성과 타겟 변수를 분리하는 함수\"\"\"\n",
    "    X = data.drop('Survived', axis=1)\n",
    "    y = data['Survived']\n",
    "    return X, y\n",
    "\n",
    "def split_train_test(X, y, test_size=0.2, random_state=42):\n",
    "    \"\"\"train 데이터와 test 데이터로 분할하는 함수\"\"\"\n",
    "    # train_test_split: 데이터를 학습용 데이터와 테스트용 데이터로 분할하는 함수\n",
    "    # X: 특성 데이터\n",
    "    # y: 타겟 데이터\n",
    "    # test_size: 테스트 데이터의 비율 (기본값: 0.2)\n",
    "    # random_state: 난수 시드 (재현성을 위해 설정)\n",
    "    # stratify: 데이터의 분포를 유지하기 위해 설정 (타겟 데이터 y를 기준으로 분할)\n",
    "    return train_test_split(X, y, test_size=test_size, random_state=random_state, stratify=y)"
   ]
  },
  {
   "cell_type": "code",
   "execution_count": 4,
   "metadata": {},
   "outputs": [],
   "source": [
    "# 데이터 분할\n",
    "X, y = split_features_and_target(titanic_cleaned)\n",
    "X_train, X_test, y_train, y_test = split_train_test(X, y, test_size=0.2, random_state=42)"
   ]
  },
  {
   "cell_type": "markdown",
   "metadata": {},
   "source": [
    "# 랜덤포레스트 모델 생성"
   ]
  },
  {
   "cell_type": "code",
   "execution_count": 5,
   "metadata": {},
   "outputs": [],
   "source": [
    "# 랜덤포레스트 모델 생성\n",
    "rf_model = RandomForestClassifier(random_state=42)\n",
    "\n",
    "# 모델 학습\n",
    "rf_model.fit(X_train, y_train)\n",
    "\n",
    "# 예측\n",
    "y_pred = rf_model.predict(X_test)"
   ]
  },
  {
   "cell_type": "markdown",
   "metadata": {},
   "source": [
    "# 결과 저장 함수 정의"
   ]
  },
  {
   "cell_type": "code",
   "execution_count": 6,
   "metadata": {},
   "outputs": [],
   "source": [
    "# 결과 저장 함수 정의\n",
    "def save_results(results_df, test_name, y_test, y_pred):\n",
    "    accuracy = accuracy_score(y_test, y_pred)\n",
    "    recall = recall_score(y_test, y_pred)\n",
    "    precision = precision_score(y_test, y_pred)\n",
    "    f1 = f1_score(y_test, y_pred)\n",
    "    \n",
    "    new_results = pd.DataFrame({\n",
    "        'test_name': [test_name],\n",
    "        'accuracy': [accuracy],\n",
    "        'recall': [recall],\n",
    "        'precision': [precision],\n",
    "        'f1_score': [f1]\n",
    "    })\n",
    "    return pd.concat([results_df, new_results], ignore_index=True)"
   ]
  },
  {
   "cell_type": "markdown",
   "metadata": {},
   "source": [
    "# 결과 저장"
   ]
  },
  {
   "cell_type": "code",
   "execution_count": 7,
   "metadata": {},
   "outputs": [
    {
     "data": {
      "text/html": [
       "<div>\n",
       "<style scoped>\n",
       "    .dataframe tbody tr th:only-of-type {\n",
       "        vertical-align: middle;\n",
       "    }\n",
       "\n",
       "    .dataframe tbody tr th {\n",
       "        vertical-align: top;\n",
       "    }\n",
       "\n",
       "    .dataframe thead th {\n",
       "        text-align: right;\n",
       "    }\n",
       "</style>\n",
       "<table border=\"1\" class=\"dataframe\">\n",
       "  <thead>\n",
       "    <tr style=\"text-align: right;\">\n",
       "      <th></th>\n",
       "      <th>test_name</th>\n",
       "      <th>accuracy</th>\n",
       "      <th>recall</th>\n",
       "      <th>precision</th>\n",
       "      <th>f1_score</th>\n",
       "    </tr>\n",
       "  </thead>\n",
       "  <tbody>\n",
       "    <tr>\n",
       "      <th>0</th>\n",
       "      <td>base_line</td>\n",
       "      <td>0.837989</td>\n",
       "      <td>0.73913</td>\n",
       "      <td>0.822581</td>\n",
       "      <td>0.778626</td>\n",
       "    </tr>\n",
       "  </tbody>\n",
       "</table>\n",
       "</div>"
      ],
      "text/plain": [
       "   test_name  accuracy   recall  precision  f1_score\n",
       "0  base_line  0.837989  0.73913   0.822581  0.778626"
      ]
     },
     "execution_count": 7,
     "metadata": {},
     "output_type": "execute_result"
    }
   ],
   "source": [
    "# 결과 저장\n",
    "results_df = pd.DataFrame()  # 빈 데이터프레임 생성\n",
    "results_df = save_results(results_df, 'base_line', y_test, y_pred)\n",
    "\n",
    "# 결과 출력\n",
    "results_df\n"
   ]
  },
  {
   "cell_type": "markdown",
   "metadata": {},
   "source": [
    "---\n",
    "\n",
    "# "
   ]
  },
  {
   "cell_type": "markdown",
   "metadata": {},
   "source": [
    "# 피처 임포턴스 출력"
   ]
  },
  {
   "cell_type": "code",
   "execution_count": 8,
   "metadata": {},
   "outputs": [
    {
     "name": "stdout",
     "output_type": "stream",
     "text": [
      "Feature Importances:\n"
     ]
    },
    {
     "data": {
      "text/html": [
       "<div>\n",
       "<style scoped>\n",
       "    .dataframe tbody tr th:only-of-type {\n",
       "        vertical-align: middle;\n",
       "    }\n",
       "\n",
       "    .dataframe tbody tr th {\n",
       "        vertical-align: top;\n",
       "    }\n",
       "\n",
       "    .dataframe thead th {\n",
       "        text-align: right;\n",
       "    }\n",
       "</style>\n",
       "<table border=\"1\" class=\"dataframe\">\n",
       "  <thead>\n",
       "    <tr style=\"text-align: right;\">\n",
       "      <th></th>\n",
       "      <th>Feature</th>\n",
       "      <th>Importance</th>\n",
       "    </tr>\n",
       "  </thead>\n",
       "  <tbody>\n",
       "    <tr>\n",
       "      <th>2</th>\n",
       "      <td>Age</td>\n",
       "      <td>0.239034</td>\n",
       "    </tr>\n",
       "    <tr>\n",
       "      <th>5</th>\n",
       "      <td>Fare</td>\n",
       "      <td>0.227993</td>\n",
       "    </tr>\n",
       "    <tr>\n",
       "      <th>1</th>\n",
       "      <td>Sex</td>\n",
       "      <td>0.128786</td>\n",
       "    </tr>\n",
       "    <tr>\n",
       "      <th>8</th>\n",
       "      <td>Title_Mr</td>\n",
       "      <td>0.106544</td>\n",
       "    </tr>\n",
       "    <tr>\n",
       "      <th>0</th>\n",
       "      <td>Pclass</td>\n",
       "      <td>0.084853</td>\n",
       "    </tr>\n",
       "    <tr>\n",
       "      <th>3</th>\n",
       "      <td>SibSp</td>\n",
       "      <td>0.054209</td>\n",
       "    </tr>\n",
       "    <tr>\n",
       "      <th>9</th>\n",
       "      <td>Title_Mrs</td>\n",
       "      <td>0.038525</td>\n",
       "    </tr>\n",
       "    <tr>\n",
       "      <th>7</th>\n",
       "      <td>Title_Miss</td>\n",
       "      <td>0.036685</td>\n",
       "    </tr>\n",
       "    <tr>\n",
       "      <th>4</th>\n",
       "      <td>Parch</td>\n",
       "      <td>0.031835</td>\n",
       "    </tr>\n",
       "    <tr>\n",
       "      <th>13</th>\n",
       "      <td>Embarked_S</td>\n",
       "      <td>0.017117</td>\n",
       "    </tr>\n",
       "    <tr>\n",
       "      <th>11</th>\n",
       "      <td>Embarked_C</td>\n",
       "      <td>0.011869</td>\n",
       "    </tr>\n",
       "    <tr>\n",
       "      <th>6</th>\n",
       "      <td>Title_Master</td>\n",
       "      <td>0.009684</td>\n",
       "    </tr>\n",
       "    <tr>\n",
       "      <th>12</th>\n",
       "      <td>Embarked_Q</td>\n",
       "      <td>0.007921</td>\n",
       "    </tr>\n",
       "    <tr>\n",
       "      <th>10</th>\n",
       "      <td>Title_Other</td>\n",
       "      <td>0.004945</td>\n",
       "    </tr>\n",
       "  </tbody>\n",
       "</table>\n",
       "</div>"
      ],
      "text/plain": [
       "         Feature  Importance\n",
       "2            Age    0.239034\n",
       "5           Fare    0.227993\n",
       "1            Sex    0.128786\n",
       "8       Title_Mr    0.106544\n",
       "0         Pclass    0.084853\n",
       "3          SibSp    0.054209\n",
       "9      Title_Mrs    0.038525\n",
       "7     Title_Miss    0.036685\n",
       "4          Parch    0.031835\n",
       "13    Embarked_S    0.017117\n",
       "11    Embarked_C    0.011869\n",
       "6   Title_Master    0.009684\n",
       "12    Embarked_Q    0.007921\n",
       "10   Title_Other    0.004945"
      ]
     },
     "execution_count": 8,
     "metadata": {},
     "output_type": "execute_result"
    }
   ],
   "source": [
    "# 피처 임포턴스 출력\n",
    "importances = rf_model.feature_importances_\n",
    "features = X_train.columns\n",
    "feature_importance_df = pd.DataFrame({'Feature': features, 'Importance': importances})\n",
    "feature_importance_df = feature_importance_df.sort_values(by='Importance', ascending=False)\n",
    "\n",
    "print(\"Feature Importances:\")\n",
    "feature_importance_df"
   ]
  },
  {
   "cell_type": "code",
   "execution_count": 9,
   "metadata": {},
   "outputs": [
    {
     "data": {
      "image/png": "[encoded data removed]",
      "text/plain": [
       "<Figure size 1000x600 with 1 Axes>"
      ]
     },
     "metadata": {},
     "output_type": "display_data"
    }
   ],
   "source": [
    "# 피처 임포턴스 시각화\n",
    "plt.figure(figsize=(10, 6))\n",
    "sns.barplot(x='Importance', y='Feature', data=feature_importance_df)\n",
    "plt.title('Feature Importances')\n",
    "plt.xlabel('Importance')\n",
    "plt.ylabel('Feature')\n",
    "plt.show()\n"
   ]
  },
  {
   "cell_type": "markdown",
   "metadata": {},
   "source": [
    "# 피쳐임포턴스가 높은 5개의 컬럼만 사용하여 학습 후 방금 전 성능과 비교"
   ]
  },
  {
   "cell_type": "code",
   "execution_count": 10,
   "metadata": {},
   "outputs": [
    {
     "data": {
      "text/html": [
       "<div>\n",
       "<style scoped>\n",
       "    .dataframe tbody tr th:only-of-type {\n",
       "        vertical-align: middle;\n",
       "    }\n",
       "\n",
       "    .dataframe tbody tr th {\n",
       "        vertical-align: top;\n",
       "    }\n",
       "\n",
       "    .dataframe thead th {\n",
       "        text-align: right;\n",
       "    }\n",
       "</style>\n",
       "<table border=\"1\" class=\"dataframe\">\n",
       "  <thead>\n",
       "    <tr style=\"text-align: right;\">\n",
       "      <th></th>\n",
       "      <th>test_name</th>\n",
       "      <th>accuracy</th>\n",
       "      <th>recall</th>\n",
       "      <th>precision</th>\n",
       "      <th>f1_score</th>\n",
       "    </tr>\n",
       "  </thead>\n",
       "  <tbody>\n",
       "    <tr>\n",
       "      <th>0</th>\n",
       "      <td>base_line</td>\n",
       "      <td>0.837989</td>\n",
       "      <td>0.739130</td>\n",
       "      <td>0.822581</td>\n",
       "      <td>0.778626</td>\n",
       "    </tr>\n",
       "    <tr>\n",
       "      <th>1</th>\n",
       "      <td>top5_col</td>\n",
       "      <td>0.849162</td>\n",
       "      <td>0.797101</td>\n",
       "      <td>0.808824</td>\n",
       "      <td>0.802920</td>\n",
       "    </tr>\n",
       "  </tbody>\n",
       "</table>\n",
       "</div>"
      ],
      "text/plain": [
       "   test_name  accuracy    recall  precision  f1_score\n",
       "0  base_line  0.837989  0.739130   0.822581  0.778626\n",
       "1   top5_col  0.849162  0.797101   0.808824  0.802920"
      ]
     },
     "execution_count": 10,
     "metadata": {},
     "output_type": "execute_result"
    }
   ],
   "source": [
    "# 피쳐임포턴스가 높은 5개의 컬럼만 사용하여 학습 후 방금 전 성능과 비교해서 보여줘\n",
    "\n",
    "# 상위 5개의 중요한 피쳐 선택\n",
    "top_5_features = feature_importance_df.head(5)['Feature'].tolist()\n",
    "\n",
    "# 상위 5개의 피쳐만 사용하여 데이터 분할\n",
    "X_train_top5 = X_train[top_5_features]\n",
    "X_test_top5 = X_test[top_5_features]\n",
    "\n",
    "# 랜덤포레스트 모델 생성 및 학습\n",
    "rf_model_top5 = RandomForestClassifier(random_state=42)\n",
    "rf_model_top5.fit(X_train_top5, y_train)\n",
    "\n",
    "# 예측 및 성능 평가\n",
    "y_pred_top5 = rf_model_top5.predict(X_test_top5)  # predict_model 함수 대신 predict 메서드 사용\n",
    "results_df = save_results(results_df, 'top5_col', y_test, y_pred_top5)\n",
    "\n",
    "# 결과 출력\n",
    "results_df\n"
   ]
  },
  {
   "cell_type": "markdown",
   "metadata": {},
   "source": [
    "# 그리드 서치를 적용하여 성능 테스트"
   ]
  },
  {
   "cell_type": "code",
   "execution_count": 11,
   "metadata": {},
   "outputs": [
    {
     "name": "stdout",
     "output_type": "stream",
     "text": [
      "Best Parameters: {'max_depth': 10, 'min_samples_leaf': 4, 'min_samples_split': 10, 'n_estimators': 100}\n",
      "Best Score: 0.8371417315079286\n"
     ]
    },
    {
     "data": {
      "text/html": [
       "<div>\n",
       "<style scoped>\n",
       "    .dataframe tbody tr th:only-of-type {\n",
       "        vertical-align: middle;\n",
       "    }\n",
       "\n",
       "    .dataframe tbody tr th {\n",
       "        vertical-align: top;\n",
       "    }\n",
       "\n",
       "    .dataframe thead th {\n",
       "        text-align: right;\n",
       "    }\n",
       "</style>\n",
       "<table border=\"1\" class=\"dataframe\">\n",
       "  <thead>\n",
       "    <tr style=\"text-align: right;\">\n",
       "      <th></th>\n",
       "      <th>test_name</th>\n",
       "      <th>accuracy</th>\n",
       "      <th>recall</th>\n",
       "      <th>precision</th>\n",
       "      <th>f1_score</th>\n",
       "    </tr>\n",
       "  </thead>\n",
       "  <tbody>\n",
       "    <tr>\n",
       "      <th>0</th>\n",
       "      <td>base_line</td>\n",
       "      <td>0.837989</td>\n",
       "      <td>0.739130</td>\n",
       "      <td>0.822581</td>\n",
       "      <td>0.778626</td>\n",
       "    </tr>\n",
       "    <tr>\n",
       "      <th>1</th>\n",
       "      <td>top5_col</td>\n",
       "      <td>0.849162</td>\n",
       "      <td>0.797101</td>\n",
       "      <td>0.808824</td>\n",
       "      <td>0.802920</td>\n",
       "    </tr>\n",
       "    <tr>\n",
       "      <th>2</th>\n",
       "      <td>grid_search</td>\n",
       "      <td>0.843575</td>\n",
       "      <td>0.739130</td>\n",
       "      <td>0.836066</td>\n",
       "      <td>0.784615</td>\n",
       "    </tr>\n",
       "  </tbody>\n",
       "</table>\n",
       "</div>"
      ],
      "text/plain": [
       "     test_name  accuracy    recall  precision  f1_score\n",
       "0    base_line  0.837989  0.739130   0.822581  0.778626\n",
       "1     top5_col  0.849162  0.797101   0.808824  0.802920\n",
       "2  grid_search  0.843575  0.739130   0.836066  0.784615"
      ]
     },
     "execution_count": 11,
     "metadata": {},
     "output_type": "execute_result"
    }
   ],
   "source": [
    "from sklearn.model_selection import GridSearchCV\n",
    "\n",
    "# 그리드 서치를 위한 파라미터 그리드 설정\n",
    "param_grid = {\n",
    "    'n_estimators': [100, 200, 300],\n",
    "    'max_depth': [None, 10, 20, 30],\n",
    "    'min_samples_split': [2, 5, 10],\n",
    "    'min_samples_leaf': [1, 2, 4]\n",
    "}\n",
    "\n",
    "# 랜덤포레스트 모델 생성\n",
    "rf_model = RandomForestClassifier(random_state=42)\n",
    "\n",
    "# 그리드 서치 객체 생성\n",
    "# GridSearchCV 객체 생성\n",
    "# estimator: 사용할 모델 (랜덤포레스트)\n",
    "# param_grid: 하이퍼파라미터 그리드\n",
    "# cv: 교차 검증 폴드 수\n",
    "# n_jobs: 병렬 처리에 사용할 CPU 수 (-1은 모든 가용 CPU 사용)\n",
    "# verbose: 출력 메시지 수준 (2는 상세 출력)\n",
    "grid_search = GridSearchCV(estimator=rf_model, param_grid=param_grid, cv=5, n_jobs=-1)\n",
    "\n",
    "# 그리드 서치 수행\n",
    "grid_search.fit(X_train, y_train)\n",
    "\n",
    "# 최적의 파라미터와 성능 출력\n",
    "print(\"Best Parameters:\", grid_search.best_params_)\n",
    "print(\"Best Score:\", grid_search.best_score_)\n",
    "\n",
    "# 최적의 파라미터로 모델 생성 및 학습\n",
    "best_rf_model = grid_search.best_estimator_\n",
    "best_rf_model.fit(X_train, y_train)\n",
    "\n",
    "# 예측 및 성능 평가\n",
    "y_pred_best = best_rf_model.predict(X_test)\n",
    "results_df = save_results(results_df, 'grid_search', y_test, y_pred_best)\n",
    "\n",
    "# 결과 출력\n",
    "results_df\n"
   ]
  },
  {
   "cell_type": "markdown",
   "metadata": {},
   "source": [
    "---"
   ]
  },
  {
   "cell_type": "markdown",
   "metadata": {},
   "source": [
    "# 5-fold 적용하여 성능 테스트"
   ]
  },
  {
   "cell_type": "code",
   "execution_count": 12,
   "metadata": {},
   "outputs": [],
   "source": [
    "def create_kfold_splits(X_train, y_train, n_splits=5, random_state=42):\n",
    "    \"\"\"KFold를 사용하여 데이터 분할을 생성하는 함수\"\"\"\n",
    "    kf = KFold(n_splits=n_splits, shuffle=True, random_state=random_state)\n",
    "    fold_results = []\n",
    "    for train_index, val_index in kf.split(X_train, y_train):\n",
    "        X_train_fold, X_val_fold = X_train.iloc[train_index], X_train.iloc[val_index]\n",
    "        y_train_fold, y_val_fold = y_train.iloc[train_index], y_train.iloc[val_index]\n",
    "        fold_results.append((X_train_fold, X_val_fold, y_train_fold, y_val_fold))\n",
    "    return fold_results\n",
    "\n",
    "# 함수 호출\n",
    "X, y = split_features_and_target(titanic_cleaned)\n",
    "X_train, X_test, y_train, y_test = split_train_test(X, y)\n",
    "fold_results = create_kfold_splits(X_train, y_train)"
   ]
  },
  {
   "cell_type": "markdown",
   "metadata": {},
   "source": [
    "# 랜덤포레스트 성능 테스트"
   ]
  },
  {
   "cell_type": "code",
   "execution_count": 13,
   "metadata": {},
   "outputs": [
    {
     "data": {
      "text/html": [
       "<div>\n",
       "<style scoped>\n",
       "    .dataframe tbody tr th:only-of-type {\n",
       "        vertical-align: middle;\n",
       "    }\n",
       "\n",
       "    .dataframe tbody tr th {\n",
       "        vertical-align: top;\n",
       "    }\n",
       "\n",
       "    .dataframe thead th {\n",
       "        text-align: right;\n",
       "    }\n",
       "</style>\n",
       "<table border=\"1\" class=\"dataframe\">\n",
       "  <thead>\n",
       "    <tr style=\"text-align: right;\">\n",
       "      <th></th>\n",
       "      <th>test_name</th>\n",
       "      <th>accuracy</th>\n",
       "      <th>recall</th>\n",
       "      <th>precision</th>\n",
       "      <th>f1_score</th>\n",
       "    </tr>\n",
       "  </thead>\n",
       "  <tbody>\n",
       "    <tr>\n",
       "      <th>0</th>\n",
       "      <td>base_line</td>\n",
       "      <td>0.8119(0.0302)</td>\n",
       "      <td>0.7439(0.0511)</td>\n",
       "      <td>0.7632(0.0669)</td>\n",
       "      <td>0.7511(0.0432)</td>\n",
       "    </tr>\n",
       "  </tbody>\n",
       "</table>\n",
       "</div>"
      ],
      "text/plain": [
       "   test_name        accuracy          recall       precision        f1_score\n",
       "0  base_line  0.8119(0.0302)  0.7439(0.0511)  0.7632(0.0669)  0.7511(0.0432)"
      ]
     },
     "execution_count": 13,
     "metadata": {},
     "output_type": "execute_result"
    }
   ],
   "source": [
    "def evaluate_model_with_kfold(fold_results, model, test_name, existing_df=None):\n",
    "    \"\"\"KFold 결과를 사용하여 모델 성능을 평가하고 기존 결과 데이터프레임에 새 결과를 추가하여 반환하는 함수\"\"\"\n",
    "    metrics = {\n",
    "        'accuracy': [],\n",
    "        'recall': [],\n",
    "        'precision': [],\n",
    "        'f1_score': []\n",
    "    }\n",
    "    \n",
    "    for X_train_fold, X_val_fold, y_train_fold, y_val_fold in fold_results:\n",
    "        model.fit(X_train_fold, y_train_fold)\n",
    "        y_pred = model.predict(X_val_fold)\n",
    "        \n",
    "        metrics['accuracy'].append(accuracy_score(y_val_fold, y_pred))\n",
    "        metrics['recall'].append(recall_score(y_val_fold, y_pred))\n",
    "        metrics['precision'].append(precision_score(y_val_fold, y_pred))\n",
    "        metrics['f1_score'].append(f1_score(y_val_fold, y_pred))\n",
    "    \n",
    "    new_result_df = pd.DataFrame([{\n",
    "        'test_name': test_name,\n",
    "        'accuracy': f\"{np.mean(metrics['accuracy']):.4f}({np.std(metrics['accuracy']):.4f})\",\n",
    "        'recall': f\"{np.mean(metrics['recall']):.4f}({np.std(metrics['recall']):.4f})\",\n",
    "        'precision': f\"{np.mean(metrics['precision']):.4f}({np.std(metrics['precision']):.4f})\",\n",
    "        'f1_score': f\"{np.mean(metrics['f1_score']):.4f}({np.std(metrics['f1_score']):.4f})\"\n",
    "    }])\n",
    "    \n",
    "    if existing_df is not None:\n",
    "        return pd.concat([existing_df, new_result_df], ignore_index=True)\n",
    "    else:\n",
    "        return new_result_df\n",
    "\n",
    "# 성능 평가\n",
    "rf_model = RandomForestClassifier(random_state=42)  # 객체화된 모델 생성\n",
    "fold_results_df = evaluate_model_with_kfold(fold_results, rf_model, 'base_line')\n",
    "fold_results_df\n"
   ]
  },
  {
   "cell_type": "markdown",
   "metadata": {},
   "source": [
    "# 이상치 처리 후 랜덤 포레스트 성능 테스트"
   ]
  },
  {
   "cell_type": "code",
   "execution_count": 14,
   "metadata": {},
   "outputs": [],
   "source": [
    "def remove_outliers(df, column):\n",
    "    \"\"\"이상치를 제거하는 함수\"\"\"\n",
    "    Q1 = df[column].quantile(0.25)\n",
    "    Q3 = df[column].quantile(0.75)\n",
    "    IQR = Q3 - Q1\n",
    "    lower_bound = Q1 - 1.5 * IQR\n",
    "    upper_bound = Q3 + 1.5 * IQR\n",
    "    return df[(df[column] >= lower_bound) & (df[column] <= upper_bound)]\n",
    "\n",
    "def create_kfold_splits_with_outlier_removal(X_train, y_train, n_splits=5, random_state=42):\n",
    "    \"\"\"이상치를 제거한 후 KFold를 사용하여 데이터 분할을 생성하는 함수\"\"\"\n",
    "    # 이상치를 제거한 X_train 생성\n",
    "    X_train_no_outliers = remove_outliers(X_train, 'Age')\n",
    "    X_train_no_outliers = remove_outliers(X_train_no_outliers, 'Fare')\n",
    "    \n",
    "    # 이상치가 제거된 X_train에 맞춰 y_train도 필터링\n",
    "    y_train_no_outliers = y_train[X_train_no_outliers.index]\n",
    "    \n",
    "    # 기존의 create_kfold_splits 함수 사용\n",
    "    return create_kfold_splits(X_train_no_outliers, y_train_no_outliers, \n",
    "                               n_splits=n_splits, random_state=random_state)\n",
    "\n",
    "# 이상치를 제외한 fold 생성\n",
    "fold_results_no_outliers = create_kfold_splits_with_outlier_removal(X_train, y_train)\n"
   ]
  },
  {
   "cell_type": "markdown",
   "metadata": {},
   "source": [
    "# 이상치 처리한 데이터로 성능을 체크"
   ]
  },
  {
   "cell_type": "code",
   "execution_count": 15,
   "metadata": {},
   "outputs": [
    {
     "data": {
      "text/html": [
       "<div>\n",
       "<style scoped>\n",
       "    .dataframe tbody tr th:only-of-type {\n",
       "        vertical-align: middle;\n",
       "    }\n",
       "\n",
       "    .dataframe tbody tr th {\n",
       "        vertical-align: top;\n",
       "    }\n",
       "\n",
       "    .dataframe thead th {\n",
       "        text-align: right;\n",
       "    }\n",
       "</style>\n",
       "<table border=\"1\" class=\"dataframe\">\n",
       "  <thead>\n",
       "    <tr style=\"text-align: right;\">\n",
       "      <th></th>\n",
       "      <th>test_name</th>\n",
       "      <th>accuracy</th>\n",
       "      <th>recall</th>\n",
       "      <th>precision</th>\n",
       "      <th>f1_score</th>\n",
       "    </tr>\n",
       "  </thead>\n",
       "  <tbody>\n",
       "    <tr>\n",
       "      <th>0</th>\n",
       "      <td>base_line</td>\n",
       "      <td>0.8119(0.0302)</td>\n",
       "      <td>0.7439(0.0511)</td>\n",
       "      <td>0.7632(0.0669)</td>\n",
       "      <td>0.7511(0.0432)</td>\n",
       "    </tr>\n",
       "    <tr>\n",
       "      <th>1</th>\n",
       "      <td>no_outliers</td>\n",
       "      <td>0.8246(0.0235)</td>\n",
       "      <td>0.7051(0.0600)</td>\n",
       "      <td>0.7644(0.0360)</td>\n",
       "      <td>0.7313(0.0302)</td>\n",
       "    </tr>\n",
       "  </tbody>\n",
       "</table>\n",
       "</div>"
      ],
      "text/plain": [
       "     test_name        accuracy          recall       precision        f1_score\n",
       "0    base_line  0.8119(0.0302)  0.7439(0.0511)  0.7632(0.0669)  0.7511(0.0432)\n",
       "1  no_outliers  0.8246(0.0235)  0.7051(0.0600)  0.7644(0.0360)  0.7313(0.0302)"
      ]
     },
     "execution_count": 15,
     "metadata": {},
     "output_type": "execute_result"
    }
   ],
   "source": [
    "rf_model_no_outliers = RandomForestClassifier(random_state=42)  # 객체화된 모델 생성\n",
    "fold_results_df = evaluate_model_with_kfold(fold_results_no_outliers, rf_model_no_outliers, 'no_outliers', fold_results_df)\n",
    "fold_results_df"
   ]
  },
  {
   "cell_type": "markdown",
   "metadata": {},
   "source": [
    "# 이상치 제거 후 정규화 적용 및 성능 테스트"
   ]
  },
  {
   "cell_type": "code",
   "execution_count": 16,
   "metadata": {},
   "outputs": [],
   "source": [
    "# 정규화 적용\n",
    "scaler = StandardScaler()\n",
    "\n",
    "# fold_results_no_outliers의 각 fold에 대해 정규화 적용\n",
    "fold_results_no_outliers_scaled = []\n",
    "for X_train_fold, X_val_fold, y_train_fold, y_val_fold in fold_results_no_outliers:\n",
    "    X_train_fold_scaled = scaler.fit_transform(X_train_fold)\n",
    "    X_val_fold_scaled = scaler.transform(X_val_fold)\n",
    "    fold_results_no_outliers_scaled.append((X_train_fold_scaled, X_val_fold_scaled, y_train_fold, y_val_fold))\n",
    "\n",
    "# 정규화된 데이터로 성능 체크\n",
    "rf_model_no_outliers_scaled = RandomForestClassifier(random_state=42)  # 객체화된 모델 생성\n",
    "fold_results_df = evaluate_model_with_kfold(fold_results_no_outliers_scaled, rf_model_no_outliers_scaled, 'no_outliers_scaled', fold_results_df)\n"
   ]
  },
  {
   "cell_type": "code",
   "execution_count": 17,
   "metadata": {},
   "outputs": [
    {
     "data": {
      "text/html": [
       "<div>\n",
       "<style scoped>\n",
       "    .dataframe tbody tr th:only-of-type {\n",
       "        vertical-align: middle;\n",
       "    }\n",
       "\n",
       "    .dataframe tbody tr th {\n",
       "        vertical-align: top;\n",
       "    }\n",
       "\n",
       "    .dataframe thead th {\n",
       "        text-align: right;\n",
       "    }\n",
       "</style>\n",
       "<table border=\"1\" class=\"dataframe\">\n",
       "  <thead>\n",
       "    <tr style=\"text-align: right;\">\n",
       "      <th></th>\n",
       "      <th>test_name</th>\n",
       "      <th>accuracy</th>\n",
       "      <th>recall</th>\n",
       "      <th>precision</th>\n",
       "      <th>f1_score</th>\n",
       "    </tr>\n",
       "  </thead>\n",
       "  <tbody>\n",
       "    <tr>\n",
       "      <th>2</th>\n",
       "      <td>no_outliers_scaled</td>\n",
       "      <td>0.8230(0.0198)</td>\n",
       "      <td>0.6945(0.0535)</td>\n",
       "      <td>0.7663(0.0329)</td>\n",
       "      <td>0.7265(0.0227)</td>\n",
       "    </tr>\n",
       "    <tr>\n",
       "      <th>1</th>\n",
       "      <td>no_outliers</td>\n",
       "      <td>0.8246(0.0235)</td>\n",
       "      <td>0.7051(0.0600)</td>\n",
       "      <td>0.7644(0.0360)</td>\n",
       "      <td>0.7313(0.0302)</td>\n",
       "    </tr>\n",
       "    <tr>\n",
       "      <th>0</th>\n",
       "      <td>base_line</td>\n",
       "      <td>0.8119(0.0302)</td>\n",
       "      <td>0.7439(0.0511)</td>\n",
       "      <td>0.7632(0.0669)</td>\n",
       "      <td>0.7511(0.0432)</td>\n",
       "    </tr>\n",
       "  </tbody>\n",
       "</table>\n",
       "</div>"
      ],
      "text/plain": [
       "            test_name        accuracy          recall       precision  \\\n",
       "2  no_outliers_scaled  0.8230(0.0198)  0.6945(0.0535)  0.7663(0.0329)   \n",
       "1         no_outliers  0.8246(0.0235)  0.7051(0.0600)  0.7644(0.0360)   \n",
       "0           base_line  0.8119(0.0302)  0.7439(0.0511)  0.7632(0.0669)   \n",
       "\n",
       "         f1_score  \n",
       "2  0.7265(0.0227)  \n",
       "1  0.7313(0.0302)  \n",
       "0  0.7511(0.0432)  "
      ]
     },
     "execution_count": 17,
     "metadata": {},
     "output_type": "execute_result"
    }
   ],
   "source": [
    "# 정밀도 기준으로 내림차순 정렬\n",
    "fold_results_df = fold_results_df.sort_values(by='precision', ascending=False)\n",
    "fold_results_df\n"
   ]
  },
  {
   "cell_type": "code",
   "execution_count": null,
   "metadata": {},
   "outputs": [],
   "source": []
  }
 ],
 "metadata": {
  "kernelspec": {
   "display_name": "woka312",
   "language": "python",
   "name": "python3"
  },
  "language_info": {
   "codemirror_mode": {
    "name": "ipython",
    "version": 3
   },
   "file_extension": ".py",
   "mimetype": "text/x-python",
   "name": "python",
   "nbconvert_exporter": "python",
   "pygments_lexer": "ipython3",
   "version": "3.12.4"
  }
 },
 "nbformat": 4,
 "nbformat_minor": 2
}
