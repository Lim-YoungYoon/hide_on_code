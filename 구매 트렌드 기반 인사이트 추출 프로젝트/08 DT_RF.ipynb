{
 "cells": [
  {
   "cell_type": "code",
   "execution_count": 1,
   "metadata": {
    "executionInfo": {
     "elapsed": 4614,
     "status": "ok",
     "timestamp": 1737597548658,
     "user": {
      "displayName": "이연수",
      "userId": "05477445597167410170"
     },
     "user_tz": -540
    },
    "id": "1VPE0hNT340N"
   },
   "outputs": [],
   "source": [
    "import warnings\n",
    "warnings.filterwarnings('ignore')  # 경고 메시지를 무시하여 코드 실행 시 불필요한 경고를 피하기 위함\n",
    "\n",
    "import sys\n",
    "# 디렉토리를 모듈 검색 경로에 추가하여 해당 디렉토리의 모듈을 임포트할 수 있도록 설정\n",
    "sys.path.append('./models') # 로컬에서 실행할 때 이 코드를 실행\n",
    "sys.path.append('./datas') # 로컬에서 실행할 때 이 코드를 실행\n",
    "\n",
    "# sys.path.append('/content/models') # Colab에서 실행 할 때 이 코드를 실행\n",
    "# sys.path.append('/content/datas') # Colab에서 실행 할 때 이 코드를 실행\n",
    "\n",
    "from data_loader import LoanDefaultDataLoader\n",
    "from preprocessor import DataPreprocessor\n",
    "from rf_model import RandomForestClassifierModel\n",
    "from dt_model import DecisionTreeClassifierModel\n",
    "\n",
    "import pandas as pd\n"
   ]
  },
  {
   "cell_type": "markdown",
   "metadata": {
    "id": "5Vj_PA66340P"
   },
   "source": [
    "### 데이터 로드"
   ]
  },
  {
   "cell_type": "code",
   "execution_count": 2,
   "metadata": {
    "executionInfo": {
     "elapsed": 1588,
     "status": "ok",
     "timestamp": 1737597932515,
     "user": {
      "displayName": "이연수",
      "userId": "05477445597167410170"
     },
     "user_tz": -540
    },
    "id": "WxztNyJ7340Q"
   },
   "outputs": [],
   "source": [
    "dataloder = LoanDefaultDataLoader()\n",
    "df = dataloder.load_data(\"Loan_Default.csv\")\n"
   ]
  },
  {
   "cell_type": "markdown",
   "metadata": {
    "id": "lFu4tUG6340Q"
   },
   "source": [
    "### 데이터 전처리"
   ]
  },
  {
   "cell_type": "code",
   "execution_count": 3,
   "metadata": {
    "id": "y8k_xn01340R"
   },
   "outputs": [
    {
     "name": "stdout",
     "output_type": "stream",
     "text": [
      "전처리 시작\n",
      "\t1. 카테고리컬 데이터를 인코딩 합니다.\n",
      "\t2. 결측치를 처리 합니다.\n",
      "\t3. 수치형 데이터를 스케일링 합니다.\n",
      "전처리 완료\n"
     ]
    }
   ],
   "source": [
    "target = 'Status'\n",
    "preprocessor = DataPreprocessor(df, target_col=target)\n",
    "preprocessor.run()\n",
    "\n",
    "X_train, X_test, y_train, y_test = preprocessor.split_data()"
   ]
  },
  {
   "cell_type": "code",
   "execution_count": null,
   "metadata": {
    "id": "AI95xeSI340R"
   },
   "outputs": [],
   "source": [
    "models = [\n",
    "    (RandomForestClassifierModel, \"Random Forest\"),\n",
    "    (DecisionTreeClassifierModel, \"Decision Tree\")\n",
    "    ]\n",
    "\n",
    "results = []\n",
    "\n",
    "for model_class, model_name in models:\n",
    "    model = model_class()\n",
    "    model.fit(X_train, y_train)\n",
    "    y_pred = model.predict(X_test)\n",
    "    metrics = model.evaluate(y_test, y_pred)\n",
    "    result = {\"Model\": model_name}\n",
    "    result.update(metrics)\n",
    "    results.append(result)\n",
    "\n",
    "results_df = pd.DataFrame(results)\n",
    "results_df\n"
   ]
  }
 ],
 "metadata": {
  "colab": {
   "provenance": []
  },
  "kernelspec": {
   "display_name": "supernova",
   "language": "python",
   "name": "python3"
  },
  "language_info": {
   "codemirror_mode": {
    "name": "ipython",
    "version": 3
   },
   "file_extension": ".py",
   "mimetype": "text/x-python",
   "name": "python",
   "nbconvert_exporter": "python",
   "pygments_lexer": "ipython3",
   "version": "3.12.8"
  }
 },
 "nbformat": 4,
 "nbformat_minor": 0
}
