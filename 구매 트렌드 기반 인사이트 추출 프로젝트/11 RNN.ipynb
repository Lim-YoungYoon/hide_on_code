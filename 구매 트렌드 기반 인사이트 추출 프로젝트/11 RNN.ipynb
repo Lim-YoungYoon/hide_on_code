{
 "cells": [
  {
   "cell_type": "markdown",
   "metadata": {},
   "source": [
    "# 삼성전자 주가를 RNN으로 예측해보기"
   ]
  },
  {
   "cell_type": "markdown",
   "metadata": {},
   "source": [
    "---\n",
    "\n",
    "### 데이터 확인"
   ]
  },
  {
   "cell_type": "code",
   "execution_count": 59,
   "metadata": {},
   "outputs": [],
   "source": [
    "import torch\n",
    "import torch.nn as nn\n",
    "import torch.optim as optim\n",
    "import numpy as np\n",
    "import matplotlib.pyplot as plt\n",
    "import pandas as pd\n",
    "import yfinance as yf\n",
    "\n",
    "from torch.utils.data import Dataset, DataLoader\n",
    "from sklearn.model_selection import train_test_split\n",
    "from sklearn.preprocessing import MinMaxScaler"
   ]
  },
  {
   "cell_type": "code",
   "execution_count": 60,
   "metadata": {},
   "outputs": [
    {
     "name": "stdout",
     "output_type": "stream",
     "text": [
      "Using device: cuda\n"
     ]
    }
   ],
   "source": [
    "# GPU 혹은 CPU 선택\n",
    "device = torch.device(\"cuda\" if torch.cuda.is_available() else \"cpu\")\n",
    "print(\"Using device:\", device)"
   ]
  },
  {
   "cell_type": "code",
   "execution_count": 62,
   "metadata": {},
   "outputs": [
    {
     "name": "stderr",
     "output_type": "stream",
     "text": [
      "[*********************100%***********************]  1 of 1 completed\n"
     ]
    },
    {
     "data": {
      "text/html": [
       "<div>\n",
       "<style scoped>\n",
       "    .dataframe tbody tr th:only-of-type {\n",
       "        vertical-align: middle;\n",
       "    }\n",
       "\n",
       "    .dataframe tbody tr th {\n",
       "        vertical-align: top;\n",
       "    }\n",
       "\n",
       "    .dataframe thead tr th {\n",
       "        text-align: left;\n",
       "    }\n",
       "\n",
       "    .dataframe thead tr:last-of-type th {\n",
       "        text-align: right;\n",
       "    }\n",
       "</style>\n",
       "<table border=\"1\" class=\"dataframe\">\n",
       "  <thead>\n",
       "    <tr>\n",
       "      <th>Price</th>\n",
       "      <th>Close</th>\n",
       "      <th>High</th>\n",
       "      <th>Low</th>\n",
       "      <th>Open</th>\n",
       "      <th>Volume</th>\n",
       "    </tr>\n",
       "    <tr>\n",
       "      <th>Ticker</th>\n",
       "      <th>005930.KS</th>\n",
       "      <th>005930.KS</th>\n",
       "      <th>005930.KS</th>\n",
       "      <th>005930.KS</th>\n",
       "      <th>005930.KS</th>\n",
       "    </tr>\n",
       "    <tr>\n",
       "      <th>Date</th>\n",
       "      <th></th>\n",
       "      <th></th>\n",
       "      <th></th>\n",
       "      <th></th>\n",
       "      <th></th>\n",
       "    </tr>\n",
       "  </thead>\n",
       "  <tbody>\n",
       "    <tr>\n",
       "      <th>2000-01-04</th>\n",
       "      <td>4405.235352</td>\n",
       "      <td>4405.235352</td>\n",
       "      <td>4080.790849</td>\n",
       "      <td>4325.926695</td>\n",
       "      <td>74195000</td>\n",
       "    </tr>\n",
       "    <tr>\n",
       "      <th>2000-01-05</th>\n",
       "      <td>4023.110840</td>\n",
       "      <td>4369.184891</td>\n",
       "      <td>3979.851584</td>\n",
       "      <td>4181.728113</td>\n",
       "      <td>74680000</td>\n",
       "    </tr>\n",
       "    <tr>\n",
       "      <th>2000-01-06</th>\n",
       "      <td>4051.951904</td>\n",
       "      <td>4167.309966</td>\n",
       "      <td>4023.112389</td>\n",
       "      <td>4145.680329</td>\n",
       "      <td>54390000</td>\n",
       "    </tr>\n",
       "    <tr>\n",
       "      <th>2000-01-07</th>\n",
       "      <td>3994.270996</td>\n",
       "      <td>4087.999377</td>\n",
       "      <td>3864.493238</td>\n",
       "      <td>4008.690747</td>\n",
       "      <td>40305000</td>\n",
       "    </tr>\n",
       "    <tr>\n",
       "      <th>2000-01-10</th>\n",
       "      <td>4160.097168</td>\n",
       "      <td>4160.097168</td>\n",
       "      <td>4023.109566</td>\n",
       "      <td>4037.529314</td>\n",
       "      <td>46880000</td>\n",
       "    </tr>\n",
       "    <tr>\n",
       "      <th>...</th>\n",
       "      <td>...</td>\n",
       "      <td>...</td>\n",
       "      <td>...</td>\n",
       "      <td>...</td>\n",
       "      <td>...</td>\n",
       "    </tr>\n",
       "    <tr>\n",
       "      <th>2025-01-21</th>\n",
       "      <td>53500.000000</td>\n",
       "      <td>54300.000000</td>\n",
       "      <td>53300.000000</td>\n",
       "      <td>53700.000000</td>\n",
       "      <td>13535702</td>\n",
       "    </tr>\n",
       "    <tr>\n",
       "      <th>2025-01-22</th>\n",
       "      <td>54300.000000</td>\n",
       "      <td>54400.000000</td>\n",
       "      <td>53100.000000</td>\n",
       "      <td>53400.000000</td>\n",
       "      <td>18341991</td>\n",
       "    </tr>\n",
       "    <tr>\n",
       "      <th>2025-01-23</th>\n",
       "      <td>53700.000000</td>\n",
       "      <td>54100.000000</td>\n",
       "      <td>53500.000000</td>\n",
       "      <td>53700.000000</td>\n",
       "      <td>15588067</td>\n",
       "    </tr>\n",
       "    <tr>\n",
       "      <th>2025-01-24</th>\n",
       "      <td>53700.000000</td>\n",
       "      <td>53800.000000</td>\n",
       "      <td>53200.000000</td>\n",
       "      <td>53600.000000</td>\n",
       "      <td>11867631</td>\n",
       "    </tr>\n",
       "    <tr>\n",
       "      <th>2025-01-31</th>\n",
       "      <td>52400.000000</td>\n",
       "      <td>53000.000000</td>\n",
       "      <td>51700.000000</td>\n",
       "      <td>52200.000000</td>\n",
       "      <td>41859977</td>\n",
       "    </tr>\n",
       "  </tbody>\n",
       "</table>\n",
       "<p>6279 rows × 5 columns</p>\n",
       "</div>"
      ],
      "text/plain": [
       "Price              Close          High           Low          Open    Volume\n",
       "Ticker         005930.KS     005930.KS     005930.KS     005930.KS 005930.KS\n",
       "Date                                                                        \n",
       "2000-01-04   4405.235352   4405.235352   4080.790849   4325.926695  74195000\n",
       "2000-01-05   4023.110840   4369.184891   3979.851584   4181.728113  74680000\n",
       "2000-01-06   4051.951904   4167.309966   4023.112389   4145.680329  54390000\n",
       "2000-01-07   3994.270996   4087.999377   3864.493238   4008.690747  40305000\n",
       "2000-01-10   4160.097168   4160.097168   4023.109566   4037.529314  46880000\n",
       "...                  ...           ...           ...           ...       ...\n",
       "2025-01-21  53500.000000  54300.000000  53300.000000  53700.000000  13535702\n",
       "2025-01-22  54300.000000  54400.000000  53100.000000  53400.000000  18341991\n",
       "2025-01-23  53700.000000  54100.000000  53500.000000  53700.000000  15588067\n",
       "2025-01-24  53700.000000  53800.000000  53200.000000  53600.000000  11867631\n",
       "2025-01-31  52400.000000  53000.000000  51700.000000  52200.000000  41859977\n",
       "\n",
       "[6279 rows x 5 columns]"
      ]
     },
     "execution_count": 62,
     "metadata": {},
     "output_type": "execute_result"
    }
   ],
   "source": [
    "# 1. 데이터 불러오기\n",
    "df = yf.download('005930.KS', start='2000-01-01', end=None)\n",
    "df"
   ]
  },
  {
   "cell_type": "markdown",
   "metadata": {},
   "source": [
    "df가 가진 각 컬럼의 의미:\n",
    "\n",
    "Open: 주식 시장이 열릴 때의 주가\n",
    "\n",
    "High: 해당 기간 동안의 최고 주가\n",
    "\n",
    "Low: 해당 기간 동안의 최저 주가\n",
    "\n",
    "Close: 주식 시장이 닫힐 때의 주가\n",
    "\n",
    "Volume: 거래량"
   ]
  },
  {
   "cell_type": "code",
   "execution_count": 63,
   "metadata": {},
   "outputs": [
    {
     "name": "stdout",
     "output_type": "stream",
     "text": [
      "                  Close         High          Low         Open    Volume\n",
      "Date                                                                    \n",
      "2000-01-04  4405.235352  4405.235352  4080.790849  4325.926695  74195000\n",
      "2000-01-05  4023.110840  4369.184891  3979.851584  4181.728113  74680000\n",
      "2000-01-06  4051.951904  4167.309966  4023.112389  4145.680329  54390000\n",
      "2000-01-07  3994.270996  4087.999377  3864.493238  4008.690747  40305000\n",
      "2000-01-10  4160.097168  4160.097168  4023.109566  4037.529314  46880000\n"
     ]
    }
   ],
   "source": [
    "# 칼럼 이름 정렬(편의상 Open, High, Low, Volume 순으로 정리하고 Close는 예측 대상)\n",
    "df.columns = ['Close', 'High', 'Low', 'Open', 'Volume']\n",
    "print(df.head())"
   ]
  },
  {
   "cell_type": "code",
   "execution_count": 64,
   "metadata": {},
   "outputs": [
    {
     "name": "stdout",
     "output_type": "stream",
     "text": [
      "X.shape: (6249, 30, 4)\n",
      "y.shape: (6249,)\n"
     ]
    }
   ],
   "source": [
    "# 2. 슬라이딩 윈도우 함수\n",
    "def create_dataset(data, window_size=30, step_size=1):\n",
    "    X, y = [], []\n",
    "    for i in range(0, len(data) - window_size, step_size):\n",
    "        # window_size 길이만큼 X 만들기\n",
    "        X.append(data.iloc[i:i + window_size])\n",
    "        # 그 다음 시점(30일 이후)의 Close를 y로 사용\n",
    "        y.append(data.iloc[i + window_size]['Close'])\n",
    "    return pd.concat(X), pd.Series(y)\n",
    "\n",
    "# 예측에 사용할 Feature: 'Open', 'High', 'Low', 'Volume'\n",
    "# 예측 대상: 'Close'\n",
    "# 주의: 아래에서 X에 'Close'를 넣지 않고, 대신 'High'를 넣습니다. (원하시는 컬럼 구성에 맞게 조정)\n",
    "# 일반적으로 'Close'를 빼고 ['Open','High','Low','Volume']만 입력 feature로 쓰면,\n",
    "# 'Close'는 y(정답)로만 쓰게 됩니다.\n",
    "feature_cols = ['Open', 'High', 'Low', 'Volume']\n",
    "data = df[feature_cols + ['Close']]  # 마지막에 'Close'를 붙여놓은 형태\n",
    "\n",
    "window_size = 30\n",
    "step_size = 1\n",
    "X_df, y_df = create_dataset(data[feature_cols + ['Close']], window_size, step_size)\n",
    "\n",
    "# X_df는 (samples * window_size, feature 수 + 1) 형태이므로,\n",
    "# 우리가 실제 Feature로 삼고자 하는 건 ['Open','High','Low','Volume'] 4개\n",
    "# 마지막에 있는 'Close'(5번째 col)는 y를 얻기 위해 남겨둔 것이므로, 실제 X에서 제거 필요\n",
    "X_only_feature = X_df[feature_cols]\n",
    "\n",
    "# 넘파이 변환 및 3차원 형태로 재구성 (samples, timesteps, features)\n",
    "num_samples = len(X_only_feature) // window_size\n",
    "X = X_only_feature.values.reshape(num_samples, window_size, len(feature_cols))\n",
    "y = y_df.values\n",
    "\n",
    "print(\"X.shape:\", X.shape)  # (samples, 30, 4)\n",
    "print(\"y.shape:\", y.shape)  # (samples,)"
   ]
  },
  {
   "cell_type": "code",
   "execution_count": 65,
   "metadata": {},
   "outputs": [],
   "source": [
    "# 3. 학습/테스트 분할\n",
    "X_train, X_test, y_train, y_test = train_test_split(\n",
    "    X, y, test_size=0.2, random_state=42\n",
    ")"
   ]
  },
  {
   "cell_type": "code",
   "execution_count": 66,
   "metadata": {},
   "outputs": [],
   "source": [
    "# 4. 스케일링\n",
    "scaler_X = MinMaxScaler()\n",
    "scaler_y = MinMaxScaler()\n",
    "\n",
    "# X: 3D -> 2D reshape -> scaling -> 3D 복원\n",
    "X_train_2d = X_train.reshape(-1, X_train.shape[-1])  # (samples*30, 4)\n",
    "X_test_2d  = X_test.reshape(-1, X_test.shape[-1])    # (samples*30, 4)\n",
    "\n",
    "X_train_scaled_2d = scaler_X.fit_transform(X_train_2d)\n",
    "X_test_scaled_2d  = scaler_X.transform(X_test_2d)\n",
    "\n",
    "X_train_scaled = X_train_scaled_2d.reshape(X_train.shape)\n",
    "X_test_scaled  = X_test_scaled_2d.reshape(X_test.shape)\n",
    "\n",
    "# y: 1D -> 2D -> scaling -> 다시 1D\n",
    "y_train_scaled = scaler_y.fit_transform(y_train.reshape(-1, 1)).flatten()\n",
    "y_test_scaled  = scaler_y.transform(y_test.reshape(-1, 1)).flatten()"
   ]
  },
  {
   "cell_type": "code",
   "execution_count": 67,
   "metadata": {},
   "outputs": [],
   "source": [
    "# 5. PyTorch Dataset 정의\n",
    "class TimeSeriesDataset(Dataset):\n",
    "    def __init__(self, X, y):\n",
    "        self.X = torch.tensor(X, dtype=torch.float32)\n",
    "        self.y = torch.tensor(y, dtype=torch.float32)\n",
    "\n",
    "    def __len__(self):\n",
    "        return len(self.X)\n",
    "\n",
    "    def __getitem__(self, idx):\n",
    "        return self.X[idx], self.y[idx]\n",
    "\n",
    "train_dataset = TimeSeriesDataset(X_train_scaled, y_train_scaled)\n",
    "test_dataset  = TimeSeriesDataset(X_test_scaled,  y_test_scaled)\n",
    "\n",
    "batch_size = 32\n",
    "train_loader = DataLoader(train_dataset, batch_size=batch_size, shuffle=True)\n",
    "test_loader  = DataLoader(test_dataset,  batch_size=batch_size, shuffle=False)"
   ]
  },
  {
   "cell_type": "code",
   "execution_count": 68,
   "metadata": {},
   "outputs": [],
   "source": [
    "# 6. RNN 모델 정의\n",
    "class RNNModel(nn.Module):\n",
    "    def __init__(self, input_dim, hidden_dim, output_dim=1):\n",
    "        super(RNNModel, self).__init__()\n",
    "        # batch_first=True -> 입력: (batch, seq_len, input_dim)\n",
    "        self.rnn = nn.RNN(input_dim, hidden_dim, batch_first=True)\n",
    "        self.fc = nn.Linear(hidden_dim, output_dim)\n",
    "\n",
    "    def forward(self, x):\n",
    "        # x.shape: (batch, seq_len, input_dim)\n",
    "        out, hidden = self.rnn(x)  # out: (batch, seq_len, hidden_dim)\n",
    "        # 마지막 time step의 은닉 상태\n",
    "        out = out[:, -1, :]       # (batch, hidden_dim)\n",
    "        out = self.fc(out)        # (batch, output_dim)\n",
    "        return out\n",
    "\n",
    "# 모델, 손실함수, 옵티마이저\n",
    "input_dim = len(feature_cols)  # 4\n",
    "hidden_dim = 50\n",
    "output_dim = 1\n",
    "\n",
    "model = RNNModel(input_dim, hidden_dim, output_dim).to(device)\n",
    "criterion = nn.MSELoss()\n",
    "optimizer = optim.Adam(model.parameters(), lr=0.001)"
   ]
  },
  {
   "cell_type": "code",
   "execution_count": 69,
   "metadata": {},
   "outputs": [],
   "source": [
    "# 7. 학습/검증 데이터 분할(Train 내부에서 Val 20%)\n",
    "X_train_, X_val_, y_train_, y_val_ = train_test_split(\n",
    "    X_train_scaled, y_train_scaled, test_size=0.2, random_state=42\n",
    ")\n",
    "train_dataset_ = TimeSeriesDataset(X_train_, y_train_)\n",
    "val_dataset_   = TimeSeriesDataset(X_val_,   y_val_)\n",
    "train_loader_  = DataLoader(train_dataset_, batch_size=batch_size, shuffle=True)\n",
    "val_loader_    = DataLoader(val_dataset_,   batch_size=batch_size, shuffle=False)\n",
    "\n",
    "# MAE 계산 함수\n",
    "def calculate_mae(y_true, y_pred):\n",
    "    return torch.mean(torch.abs(y_true - y_pred))\n"
   ]
  },
  {
   "cell_type": "code",
   "execution_count": 70,
   "metadata": {},
   "outputs": [
    {
     "name": "stdout",
     "output_type": "stream",
     "text": [
      "[Epoch 10/50] Train Loss: 0.0001, Train MAE: 0.0065 | Val Loss: 0.0001, Val MAE: 0.0054\n",
      "[Epoch 20/50] Train Loss: 0.0001, Train MAE: 0.0058 | Val Loss: 0.0001, Val MAE: 0.0049\n",
      "[Epoch 30/50] Train Loss: 0.0001, Train MAE: 0.0059 | Val Loss: 0.0001, Val MAE: 0.0054\n",
      "[Epoch 40/50] Train Loss: 0.0001, Train MAE: 0.0058 | Val Loss: 0.0001, Val MAE: 0.0053\n",
      "[Epoch 50/50] Train Loss: 0.0001, Train MAE: 0.0055 | Val Loss: 0.0001, Val MAE: 0.0051\n"
     ]
    }
   ],
   "source": [
    "# 8. 학습 루프\n",
    "num_epochs = 50\n",
    "\n",
    "train_losses = []\n",
    "val_losses   = []\n",
    "train_maes   = []\n",
    "val_maes     = []\n",
    "\n",
    "for epoch in range(num_epochs):\n",
    "    # --- Training ---\n",
    "    model.train()\n",
    "    running_loss = 0.0\n",
    "    running_mae  = 0.0\n",
    "    for X_batch, y_batch in train_loader_:\n",
    "        X_batch = X_batch.to(device)\n",
    "        y_batch = y_batch.to(device)\n",
    "\n",
    "        optimizer.zero_grad()\n",
    "        outputs = model(X_batch).squeeze()  # (batch,)\n",
    "        loss = criterion(outputs, y_batch)\n",
    "        loss.backward()\n",
    "        optimizer.step()\n",
    "\n",
    "        running_loss += loss.item() * X_batch.size(0)\n",
    "        running_mae  += calculate_mae(outputs, y_batch).item() * X_batch.size(0)\n",
    "\n",
    "    epoch_loss = running_loss / len(train_loader_.dataset)\n",
    "    epoch_mae  = running_mae  / len(train_loader_.dataset)\n",
    "\n",
    "    # --- Validation ---\n",
    "    model.eval()\n",
    "    val_running_loss = 0.0\n",
    "    val_running_mae  = 0.0\n",
    "    with torch.no_grad():\n",
    "        for X_val, y_val in val_loader_:\n",
    "            X_val = X_val.to(device)\n",
    "            y_val = y_val.to(device)\n",
    "\n",
    "            val_outputs = model(X_val).squeeze()\n",
    "            val_loss    = criterion(val_outputs, y_val)\n",
    "            val_mae_val = calculate_mae(val_outputs, y_val)\n",
    "\n",
    "            val_running_loss += val_loss.item()    * X_val.size(0)\n",
    "            val_running_mae  += val_mae_val.item() * X_val.size(0)\n",
    "\n",
    "    val_epoch_loss = val_running_loss / len(val_loader_.dataset)\n",
    "    val_epoch_mae  = val_running_mae  / len(val_loader_.dataset)\n",
    "\n",
    "    train_losses.append(epoch_loss)\n",
    "    train_maes.append(epoch_mae)\n",
    "    val_losses.append(val_epoch_loss)\n",
    "    val_maes.append(val_epoch_mae)\n",
    "\n",
    "    if (epoch+1) % 10 == 0:\n",
    "        print(f\"[Epoch {epoch+1}/{num_epochs}] \"\n",
    "              f\"Train Loss: {epoch_loss:.4f}, Train MAE: {epoch_mae:.4f} | \"\n",
    "              f\"Val Loss: {val_epoch_loss:.4f}, Val MAE: {val_epoch_mae:.4f}\")"
   ]
  },
  {
   "cell_type": "code",
   "execution_count": 71,
   "metadata": {},
   "outputs": [
    {
     "name": "stdout",
     "output_type": "stream",
     "text": [
      "Test MSE (scaled): 0.0001\n",
      "Test MAE (scaled): 0.0051\n",
      "Test MAE (Restored): 436.3983\n",
      "\n",
      "[일부 결과 비교]\n",
      "Actual: 8624.42, Predicted: 8505.44\n",
      "Actual: 5025.28, Predicted: 5537.50\n",
      "Actual: 22028.23, Predicted: 21825.53\n",
      "Actual: 7309.00, Predicted: 7459.94\n",
      "Actual: 43215.93, Predicted: 44775.40\n"
     ]
    }
   ],
   "source": [
    "# 9. 테스트 세트 성능 평가\n",
    "model.eval()\n",
    "test_preds = []\n",
    "test_targets = []\n",
    "\n",
    "with torch.no_grad():\n",
    "    for X_batch, y_batch in test_loader:\n",
    "        X_batch = X_batch.to(device)\n",
    "        y_batch = y_batch.to(device)\n",
    "\n",
    "        pred = model(X_batch).squeeze()\n",
    "        test_preds.append(pred.cpu().numpy())\n",
    "        test_targets.append(y_batch.cpu().numpy())\n",
    "\n",
    "test_preds    = np.concatenate(test_preds)\n",
    "test_targets  = np.concatenate(test_targets)\n",
    "\n",
    "mse_scaled = np.mean((test_preds - test_targets)**2)\n",
    "mae_scaled = np.mean(np.abs(test_preds - test_targets))\n",
    "print(f\"Test MSE (scaled): {mse_scaled:.4f}\")\n",
    "print(f\"Test MAE (scaled): {mae_scaled:.4f}\")\n",
    "\n",
    "# 스케일링 복원\n",
    "test_preds_reshaped    = test_preds.reshape(-1, 1)\n",
    "test_preds_inversed    = scaler_y.inverse_transform(test_preds_reshaped).flatten()\n",
    "test_targets_reshaped  = test_targets.reshape(-1, 1)\n",
    "test_targets_inversed  = scaler_y.inverse_transform(test_targets_reshaped).flatten()\n",
    "\n",
    "mae_restored = np.mean(np.abs(test_preds_inversed - test_targets_inversed))\n",
    "print(f\"Test MAE (Restored): {mae_restored:.4f}\")\n",
    "\n",
    "print(\"\\n[일부 결과 비교]\")\n",
    "for i in range(5):\n",
    "    print(f\"Actual: {test_targets_inversed[i]:.2f}, Predicted: {test_preds_inversed[i]:.2f}\")\n"
   ]
  },
  {
   "cell_type": "code",
   "execution_count": 72,
   "metadata": {},
   "outputs": [
    {
     "data": {
      "image/png": "[encoded data removed]",
      "text/plain": [
       "<Figure size 1200x500 with 2 Axes>"
      ]
     },
     "metadata": {},
     "output_type": "display_data"
    }
   ],
   "source": [
    "# 10. 학습 곡선 시각화\n",
    "plt.figure(figsize=(12, 5))\n",
    "\n",
    "plt.subplot(1, 2, 1)\n",
    "plt.plot(train_losses, label='Train Loss')\n",
    "plt.plot(val_losses,   label='Validation Loss')\n",
    "plt.xlabel('Epoch')\n",
    "plt.ylabel('MSE Loss')\n",
    "plt.title('Loss over Epochs')\n",
    "plt.legend()\n",
    "\n",
    "plt.subplot(1, 2, 2)\n",
    "plt.plot(train_maes, label='Train MAE')\n",
    "plt.plot(val_maes,   label='Validation MAE')\n",
    "plt.xlabel('Epoch')\n",
    "plt.ylabel('MAE')\n",
    "plt.title('MAE over Epochs')\n",
    "plt.legend()\n",
    "\n",
    "plt.tight_layout()\n",
    "plt.show()"
   ]
  },
  {
   "cell_type": "code",
   "execution_count": 73,
   "metadata": {},
   "outputs": [
    {
     "name": "stdout",
     "output_type": "stream",
     "text": [
      "\n",
      "[다음날 종가 예측]\n",
      "삼성전자의 다음날 주가는: 52250.03원 (예측)\n"
     ]
    }
   ],
   "source": [
    "# 11. \"가장 최근 30일\" 데이터를 통한 다음날 주가 예측\n",
    "# ------------------------------------------------\n",
    "# 실제 예측을 위해서 df에서 마지막 30일치('Open','High','Low','Volume')를 꺼내서\n",
    "# 모델에 넣어 다음날의 'Close'를 예측합니다.\n",
    "\n",
    "model.eval()\n",
    "with torch.no_grad():\n",
    "    # df의 마지막 30일 데이터를 가져옵니다 (4개 feature)\n",
    "    recent_30_days = df.iloc[-30:][['Open', 'High', 'Low', 'Volume']].values\n",
    "    # 위에서 사용한 scaler_X로 스케일링\n",
    "    recent_30_days_scaled = scaler_X.transform(recent_30_days)\n",
    "    # (1, 30, 4) 형태로 변환\n",
    "    recent_30_days_scaled = recent_30_days_scaled.reshape(1, window_size, len(feature_cols))\n",
    "\n",
    "    # PyTorch Tensor로 변환 후 모델 추론\n",
    "    recent_30_days_tensor = torch.tensor(recent_30_days_scaled, dtype=torch.float32).to(device)\n",
    "    predicted_close_scaled = model(recent_30_days_tensor).cpu().numpy()  # (1,1) 형태\n",
    "\n",
    "    # 스케일링 복원\n",
    "    predicted_close = scaler_y.inverse_transform(predicted_close_scaled).flatten()\n",
    "\n",
    "    print(f\"\\n[다음날 종가 예측]\")\n",
    "    print(f\"삼성전자의 다음날 주가는: {predicted_close[0]:.2f}원 (예측)\")"
   ]
  }
 ],
 "metadata": {
  "kernelspec": {
   "display_name": "supernova",
   "language": "python",
   "name": "python3"
  },
  "language_info": {
   "codemirror_mode": {
    "name": "ipython",
    "version": 3
   },
   "file_extension": ".py",
   "mimetype": "text/x-python",
   "name": "python",
   "nbconvert_exporter": "python",
   "pygments_lexer": "ipython3",
   "version": "3.12.8"
  }
 },
 "nbformat": 4,
 "nbformat_minor": 2
}
