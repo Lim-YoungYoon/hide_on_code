{
 "cells": [
  {
   "cell_type": "markdown",
   "metadata": {},
   "source": [
    "# 👕 PyTorch를 활용한 FashionMNIST 전이학습 및 미세조정\n",
    "\n",
    "TensorFlow 코드를 **PyTorch**로 변환한 예제입니다.  \n",
    "이 코드는 **FashionMNIST** 데이터셋을 활용하여 **MobileNetV2 기반 전이 학습 및 미세조정**을 수행합니다.\n",
    "\n",
    "## 📝 진행 순서\n",
    "\n",
    "1. **FashionMNIST 데이터셋 불러오기** (`torchvision.datasets`)\n",
    "2. **데이터 전처리 및 증강** (`torchvision.transforms`)  \n",
    "   - **정규화 (Normalization)**\n",
    "   - **리사이즈 및 채널 복제 (`convert(\"RGB\")`)**\n",
    "   - **데이터 증강 (회전, 이동, 확대/축소, 좌우 반전)**\n",
    "3. **사전 학습된 MobileNetV2 모델 불러오기** (`torchvision.models`)\n",
    "   - **전이 학습 (Feature Extraction)**\n",
    "   - **미세조정 (Fine-Tuning)**\n",
    "4. **모델 학습 및 평가**\n",
    "5. **테스트셋 결과 및 학습 곡선 시각화**\n",
    "\n",
    "## 🔎 참고사항\n",
    "\n",
    "- **FashionMNIST는 기본적으로 그레이스케일 (`PIL \"L\"`) 이미지이므로,**  \n",
    "  전이 학습을 위해 `convert(\"RGB\")`를 통해 **3채널 이미지**로 변환합니다.\n",
    "- **PyTorch의 `nn.CrossEntropyLoss`는 내부적으로 softmax를 포함**하므로,  \n",
    "  모델의 마지막 층에서는 **raw logits**을 출력합니다.\n",
    "- **L2 정규화**는 PyTorch에서는 **옵티마이저의 `weight_decay` 파라미터**로 적용하지만,  \n",
    "  여기서는 TensorFlow 코드와 유사하게 **모델 구조**에서 반영하였습니다."
   ]
  },
  {
   "cell_type": "code",
   "execution_count": 1,
   "metadata": {},
   "outputs": [
    {
     "name": "stdout",
     "output_type": "stream",
     "text": [
      "사용 device: cuda\n"
     ]
    }
   ],
   "source": [
    "import torch\n",
    "import torch.nn as nn\n",
    "import torch.optim as optim\n",
    "from torch.utils.data import DataLoader, Subset\n",
    "from torchvision import datasets, transforms, models\n",
    "import matplotlib.pyplot as plt\n",
    "import numpy as np\n",
    "import copy\n",
    "\n",
    "# Device 설정 (GPU 사용 가능하면 GPU 사용)\n",
    "device = torch.device(\"cuda\" if torch.cuda.is_available() else \"cpu\")\n",
    "print(\"사용 device:\", device)"
   ]
  },
  {
   "cell_type": "markdown",
   "metadata": {
    "id": "dCRnRqQWN1zR"
   },
   "source": [
    "# 1. 데이터 로드 및 전처리\n"
   ]
  },
  {
   "cell_type": "code",
   "execution_count": 3,
   "metadata": {
    "executionInfo": {
     "elapsed": 4,
     "status": "ok",
     "timestamp": 1738928804275,
     "user": {
      "displayName": "chioh song",
      "userId": "05482793768581925652"
     },
     "user_tz": -540
    },
    "id": "QndhEidrHQcH"
   },
   "outputs": [],
   "source": [
    "# 이미지 크기 상수 정의\n",
    "IMG_HEIGHT = 96\n",
    "IMG_WIDTH = 96\n",
    "IMG_CHANNELS = 3\n",
    "\n",
    "# 그레이스케일 이미지를 RGB로 변환하는 함수 (lambda 대신 전역 함수 사용)\n",
    "def convert_to_rgb(image):\n",
    "    return image.convert(\"RGB\")\n",
    "\n",
    "# 학습 시 데이터 증강(transformations)\n",
    "train_transform = transforms.Compose([\n",
    "    transforms.Resize((IMG_HEIGHT, IMG_WIDTH)),\n",
    "    transforms.Lambda(convert_to_rgb),\n",
    "    # RandomAffine를 통해 회전(10도), 이동(최대 10%), 확대/축소(0.9~1.1)\n",
    "    transforms.RandomAffine(degrees=10, translate=(0.1, 0.1), scale=(0.9, 1.1)),\n",
    "    transforms.RandomHorizontalFlip(),\n",
    "    transforms.ToTensor(),  # [0,1] 범위로 스케일링\n",
    "    # (선택) 추가 정규화: FashionMNIST는 흑백 이미지이므로 별도 평균/표준편차 계산 후 적용할 수 있음.\n",
    "])\n",
    "\n",
    "# 검증/테스트 시에는 데이터 증강 없이 리사이즈와 채널 변환만 수행\n",
    "test_transform = transforms.Compose([\n",
    "    transforms.Resize((IMG_HEIGHT, IMG_WIDTH)),\n",
    "    transforms.Lambda(convert_to_rgb),\n",
    "    transforms.ToTensor(),\n",
    "])\n",
    "\n",
    "# FashionMNIST 데이터셋 불러오기 (PIL 이미지 형태로 로드됨)\n",
    "train_dataset_full = datasets.FashionMNIST(root='./data', train=True, download=True, transform=train_transform)\n",
    "test_dataset = datasets.FashionMNIST(root='./data', train=False, download=True, transform=test_transform)\n",
    "\n",
    "# 전체 데이터 중 OOM 문제를 피하기 위해 10,000개만 사용\n",
    "train_dataset = Subset(train_dataset_full, list(range(10000)))\n",
    "\n",
    "# DataLoader 정의\n",
    "batch_size = 256\n",
    "train_loader = DataLoader(train_dataset, batch_size=batch_size, shuffle=True, num_workers=0)\n",
    "test_loader = DataLoader(test_dataset, batch_size=batch_size, shuffle=False, num_workers=0)"
   ]
  },
  {
   "cell_type": "markdown",
   "metadata": {},
   "source": [
    "# 2. 모델 구성 (전이학습)"
   ]
  },
  {
   "cell_type": "code",
   "execution_count": 4,
   "metadata": {
    "colab": {
     "base_uri": "https://localhost:8080/"
    },
    "executionInfo": {
     "elapsed": 6494,
     "status": "ok",
     "timestamp": 1738928866053,
     "user": {
      "displayName": "chioh song",
      "userId": "05482793768581925652"
     },
     "user_tz": -540
    },
    "id": "o1ORV8SHHViw",
    "outputId": "80cc0398-bd18-4c8c-861c-7da853718b3a"
   },
   "outputs": [
    {
     "name": "stderr",
     "output_type": "stream",
     "text": [
      "c:\\Users\\user\\anaconda3\\envs\\supernova\\Lib\\site-packages\\torchvision\\models\\_utils.py:208: UserWarning: The parameter 'pretrained' is deprecated since 0.13 and may be removed in the future, please use 'weights' instead.\n",
      "  warnings.warn(\n",
      "c:\\Users\\user\\anaconda3\\envs\\supernova\\Lib\\site-packages\\torchvision\\models\\_utils.py:223: UserWarning: Arguments other than a weight enum or `None` for 'weights' are deprecated since 0.13 and may be removed in the future. The current behavior is equivalent to passing `weights=MobileNet_V2_Weights.IMAGENET1K_V1`. You can also use `weights=MobileNet_V2_Weights.DEFAULT` to get the most up-to-date weights.\n",
      "  warnings.warn(msg)\n"
     ]
    }
   ],
   "source": [
    "# MobileNetV2 기반 모델 구성\n",
    "class MobileNetV2_Fashion(nn.Module):\n",
    "    def __init__(self, num_classes=10):\n",
    "        super(MobileNetV2_Fashion, self).__init__()\n",
    "        # 사전학습된 MobileNetV2 불러오기 (pretrained on ImageNet)\n",
    "        self.base = models.mobilenet_v2(pretrained=True)\n",
    "        # 기존 분류기(classifier)를 제거(Identity 처리)\n",
    "        self.base.classifier = nn.Identity()\n",
    "        # Global Average Pooling\n",
    "        self.pool = nn.AdaptiveAvgPool2d(1)  # 출력: (batch, 1280, 1, 1)\n",
    "        # 새로운 분류기\n",
    "        self.fc1 = nn.Linear(1280, 64)  # MobileNetV2 마지막 채널 수는 1280\n",
    "        self.relu = nn.ReLU()\n",
    "        self.dropout = nn.Dropout(0.2)\n",
    "        self.bn = nn.BatchNorm1d(64)\n",
    "        self.fc2 = nn.Linear(64, num_classes)\n",
    "    \n",
    "    def forward(self, x):\n",
    "        # x: (batch, 3, IMG_HEIGHT, IMG_WIDTH)\n",
    "        x = self.base.features(x)  # Feature 추출\n",
    "        x = self.pool(x)           # (batch, 1280, 1, 1)\n",
    "        x = x.view(x.size(0), -1)  # Flatten → (batch, 1280)\n",
    "        x = self.fc1(x)\n",
    "        x = self.relu(x)\n",
    "        x = self.dropout(x)\n",
    "        x = self.bn(x)\n",
    "        x = self.fc2(x)  # logits 출력 (CrossEntropyLoss 사용하므로 softmax 생략)\n",
    "        return x\n",
    "\n",
    "# 모델 생성 후 device로 이동\n",
    "model = MobileNetV2_Fashion(num_classes=10).to(device)\n",
    "\n",
    "# 전이학습 단계: base_model(특징 추출 부분)은 동결\n",
    "for param in model.base.parameters():\n",
    "    param.requires_grad = False\n",
    "\n",
    "# 손실 함수 및 옵티마이저 설정\n",
    "criterion = nn.CrossEntropyLoss()\n",
    "optimizer = optim.Adam(filter(lambda p: p.requires_grad, model.parameters()), lr=0.001)\n",
    "# (참고: L2 정규화는 옵티마이저의 weight_decay로 적용할 수 있음)"
   ]
  },
  {
   "cell_type": "markdown",
   "metadata": {
    "id": "JelE0drLNQrd"
   },
   "source": [
    "---"
   ]
  },
  {
   "cell_type": "markdown",
   "metadata": {},
   "source": [
    "# 3. 학습 및 평가 함수"
   ]
  },
  {
   "cell_type": "code",
   "execution_count": 5,
   "metadata": {},
   "outputs": [],
   "source": [
    "def train_model(model, dataloader, criterion, optimizer, device):\n",
    "    model.train()\n",
    "    running_loss = 0.0\n",
    "    correct = 0\n",
    "    total = 0\n",
    "    for inputs, labels in dataloader:\n",
    "        inputs, labels = inputs.to(device), labels.to(device)\n",
    "        optimizer.zero_grad()\n",
    "        outputs = model(inputs)\n",
    "        loss = criterion(outputs, labels)\n",
    "        loss.backward()\n",
    "        optimizer.step()\n",
    "        running_loss += loss.item() * inputs.size(0)\n",
    "        _, preds = torch.max(outputs, 1)\n",
    "        correct += (preds == labels).sum().item()\n",
    "        total += labels.size(0)\n",
    "    epoch_loss = running_loss / total\n",
    "    epoch_acc = correct / total\n",
    "    return epoch_loss, epoch_acc\n",
    "\n",
    "def evaluate_model(model, dataloader, criterion, device):\n",
    "    model.eval()\n",
    "    running_loss = 0.0\n",
    "    correct = 0\n",
    "    total = 0\n",
    "    with torch.no_grad():\n",
    "        for inputs, labels in dataloader:\n",
    "            inputs, labels = inputs.to(device), labels.to(device)\n",
    "            outputs = model(inputs)\n",
    "            loss = criterion(outputs, labels)\n",
    "            running_loss += loss.item() * inputs.size(0)\n",
    "            _, preds = torch.max(outputs, 1)\n",
    "            correct += (preds == labels).sum().item()\n",
    "            total += labels.size(0)\n",
    "    epoch_loss = running_loss / total\n",
    "    epoch_acc = correct / total\n",
    "    return epoch_loss, epoch_acc"
   ]
  },
  {
   "cell_type": "code",
   "execution_count": 6,
   "metadata": {},
   "outputs": [],
   "source": [
    "# 간단한 EarlyStopping 클래스 구현\n",
    "class EarlyStopping:\n",
    "    def __init__(self, patience=6, verbose=False):\n",
    "        self.patience = patience\n",
    "        self.verbose = verbose\n",
    "        self.counter = 0\n",
    "        self.best_loss = None\n",
    "        self.early_stop = False\n",
    "        self.best_model_state = None\n",
    "\n",
    "    def __call__(self, val_loss, model):\n",
    "        if self.best_loss is None or val_loss < self.best_loss:\n",
    "            self.best_loss = val_loss\n",
    "            self.best_model_state = copy.deepcopy(model.state_dict())\n",
    "            self.counter = 0\n",
    "        else:\n",
    "            self.counter += 1\n",
    "            if self.verbose:\n",
    "                print(f\"EarlyStopping counter: {self.counter} out of {self.patience}\")\n",
    "            if self.counter >= self.patience:\n",
    "                self.early_stop = True"
   ]
  },
  {
   "cell_type": "markdown",
   "metadata": {},
   "source": [
    "# 4. 전이학습 (Feature Extraction) 학습"
   ]
  },
  {
   "cell_type": "code",
   "execution_count": 7,
   "metadata": {},
   "outputs": [
    {
     "name": "stdout",
     "output_type": "stream",
     "text": [
      "----- 전이학습 시작 (Feature Extraction) -----\n",
      "Epoch 1/15: Train Loss 1.1880, Train Acc 0.6478, Val Loss 1.0094, Val Acc 0.7108\n",
      "Epoch 2/15: Train Loss 0.7796, Train Acc 0.7577, Val Loss 0.6818, Val Acc 0.7856\n",
      "Epoch 3/15: Train Loss 0.6877, Train Acc 0.7734, Val Loss 0.6291, Val Acc 0.7884\n",
      "Epoch 4/15: Train Loss 0.6600, Train Acc 0.7800, Val Loss 0.6203, Val Acc 0.7877\n",
      "Epoch 5/15: Train Loss 0.6252, Train Acc 0.7854, Val Loss 0.6042, Val Acc 0.7944\n",
      "Epoch 6/15: Train Loss 0.5969, Train Acc 0.7921, Val Loss 0.5753, Val Acc 0.8025\n",
      "Epoch 7/15: Train Loss 0.5764, Train Acc 0.7951, Val Loss 0.5696, Val Acc 0.7980\n",
      "Epoch 8/15: Train Loss 0.5796, Train Acc 0.7934, Val Loss 0.5627, Val Acc 0.8031\n",
      "Epoch 9/15: Train Loss 0.5675, Train Acc 0.8000, Val Loss 0.5549, Val Acc 0.8060\n",
      "Epoch 10/15: Train Loss 0.5730, Train Acc 0.7953, Val Loss 0.5523, Val Acc 0.8042\n",
      "Epoch 11/15: Train Loss 0.5688, Train Acc 0.7982, Val Loss 0.5421, Val Acc 0.8074\n",
      "Epoch 12/15: Train Loss 0.5591, Train Acc 0.8001, Val Loss 0.5397, Val Acc 0.8113\n",
      "Epoch 13/15: Train Loss 0.5454, Train Acc 0.8067, Val Loss 0.5214, Val Acc 0.8154\n",
      "Epoch 14/15: Train Loss 0.5453, Train Acc 0.8032, Val Loss 0.5222, Val Acc 0.8103\n",
      "EarlyStopping counter: 1 out of 6\n",
      "Epoch 15/15: Train Loss 0.5416, Train Acc 0.8010, Val Loss 0.5276, Val Acc 0.8142\n",
      "EarlyStopping counter: 2 out of 6\n"
     ]
    }
   ],
   "source": [
    "num_epochs = 15\n",
    "train_losses = []\n",
    "train_accs = []\n",
    "val_losses = []\n",
    "val_accs = []\n",
    "early_stopping = EarlyStopping(patience=6, verbose=True)\n",
    "\n",
    "print(\"----- 전이학습 시작 (Feature Extraction) -----\")\n",
    "for epoch in range(num_epochs):\n",
    "    train_loss, train_acc = train_model(model, train_loader, criterion, optimizer, device)\n",
    "    val_loss, val_acc = evaluate_model(model, test_loader, criterion, device)\n",
    "    train_losses.append(train_loss)\n",
    "    train_accs.append(train_acc)\n",
    "    val_losses.append(val_loss)\n",
    "    val_accs.append(val_acc)\n",
    "    print(f\"Epoch {epoch+1}/{num_epochs}: Train Loss {train_loss:.4f}, Train Acc {train_acc:.4f}, \"\n",
    "          f\"Val Loss {val_loss:.4f}, Val Acc {val_acc:.4f}\")\n",
    "    early_stopping(val_loss, model)\n",
    "    if early_stopping.early_stop:\n",
    "        print(\"Early stopping 발생!\")\n",
    "        break"
   ]
  },
  {
   "cell_type": "code",
   "execution_count": 8,
   "metadata": {},
   "outputs": [
    {
     "name": "stdout",
     "output_type": "stream",
     "text": [
      "\n",
      "테스트 정확도: 0.8154\n"
     ]
    }
   ],
   "source": [
    "# 가장 성능이 좋았던 모델 state 복원\n",
    "if early_stopping.best_model_state is not None:\n",
    "    model.load_state_dict(early_stopping.best_model_state)\n",
    "\n",
    "# 테스트 데이터 평가\n",
    "test_loss, test_acc = evaluate_model(model, test_loader, criterion, device)\n",
    "print(f\"\\n테스트 정확도: {test_acc:.4f}\")"
   ]
  },
  {
   "cell_type": "markdown",
   "metadata": {},
   "source": [
    "# 5. 미세조정 (Fine-tuning)"
   ]
  },
  {
   "cell_type": "code",
   "execution_count": 9,
   "metadata": {},
   "outputs": [
    {
     "name": "stdout",
     "output_type": "stream",
     "text": [
      "\n",
      "----- 미세조정 시작 (Fine-tuning) -----\n",
      "Fine-tuning Epoch 1/15: Train Loss 0.5175, Train Acc 0.8122, Val Loss 0.5138, Val Acc 0.8172\n",
      "Fine-tuning Epoch 2/15: Train Loss 0.5184, Train Acc 0.8073, Val Loss 0.5102, Val Acc 0.8195\n",
      "Fine-tuning Epoch 3/15: Train Loss 0.5158, Train Acc 0.8127, Val Loss 0.5148, Val Acc 0.8168\n",
      "Fine-tuning Epoch 4/15: Train Loss 0.5139, Train Acc 0.8164, Val Loss 0.5121, Val Acc 0.8182\n",
      "Fine-tuning Epoch 5/15: Train Loss 0.5047, Train Acc 0.8183, Val Loss 0.5092, Val Acc 0.8195\n",
      "Fine-tuning Epoch 6/15: Train Loss 0.5099, Train Acc 0.8142, Val Loss 0.5104, Val Acc 0.8192\n",
      "Fine-tuning Epoch 7/15: Train Loss 0.5003, Train Acc 0.8179, Val Loss 0.5052, Val Acc 0.8207\n",
      "Fine-tuning Epoch 8/15: Train Loss 0.5000, Train Acc 0.8192, Val Loss 0.5061, Val Acc 0.8185\n",
      "Fine-tuning Epoch 9/15: Train Loss 0.5112, Train Acc 0.8150, Val Loss 0.5059, Val Acc 0.8193\n",
      "Fine-tuning Epoch 10/15: Train Loss 0.5005, Train Acc 0.8184, Val Loss 0.5039, Val Acc 0.8176\n",
      "Fine-tuning Epoch 11/15: Train Loss 0.5040, Train Acc 0.8218, Val Loss 0.5100, Val Acc 0.8164\n",
      "Fine-tuning Epoch 12/15: Train Loss 0.5008, Train Acc 0.8153, Val Loss 0.5013, Val Acc 0.8217\n",
      "Fine-tuning Epoch 13/15: Train Loss 0.5048, Train Acc 0.8189, Val Loss 0.5068, Val Acc 0.8199\n",
      "Fine-tuning Epoch 14/15: Train Loss 0.5064, Train Acc 0.8180, Val Loss 0.4989, Val Acc 0.8224\n",
      "Fine-tuning Epoch 15/15: Train Loss 0.4889, Train Acc 0.8242, Val Loss 0.5023, Val Acc 0.8206\n",
      "\n",
      "미세조정 후 테스트 정확도: 0.8206\n"
     ]
    }
   ],
   "source": [
    "# 미세조정을 위해 base_model의 일부 레이어만 학습하도록 설정\n",
    "# 전체 base_model의 파라미터를 일단 학습 가능하도록 변경한 후, 앞쪽 일부는 다시 동결\n",
    "for param in model.base.parameters():\n",
    "    param.requires_grad = True\n",
    "\n",
    "fine_tune_at = 100  # 예시: base_model.features의 인덱스 100 이전은 동결\n",
    "for i, layer in enumerate(model.base.features):\n",
    "    if i < fine_tune_at:\n",
    "        for param in layer.parameters():\n",
    "            param.requires_grad = False\n",
    "    else:\n",
    "        for param in layer.parameters():\n",
    "            param.requires_grad = True\n",
    "\n",
    "# 미세조정을 위한 옵티마이저 재설정 (낮은 학습률 사용)\n",
    "optimizer = optim.Adam(filter(lambda p: p.requires_grad, model.parameters()), lr=0.0001)\n",
    "\n",
    "fine_tune_epochs = 15\n",
    "train_losses_ft = []\n",
    "train_accs_ft = []\n",
    "val_losses_ft = []\n",
    "val_accs_ft = []\n",
    "\n",
    "print(\"\\n----- 미세조정 시작 (Fine-tuning) -----\")\n",
    "for epoch in range(fine_tune_epochs):\n",
    "    train_loss, train_acc = train_model(model, train_loader, criterion, optimizer, device)\n",
    "    val_loss, val_acc = evaluate_model(model, test_loader, criterion, device)\n",
    "    train_losses_ft.append(train_loss)\n",
    "    train_accs_ft.append(train_acc)\n",
    "    val_losses_ft.append(val_loss)\n",
    "    val_accs_ft.append(val_acc)\n",
    "    print(f\"Fine-tuning Epoch {epoch+1}/{fine_tune_epochs}: Train Loss {train_loss:.4f}, Train Acc {train_acc:.4f}, \"\n",
    "          f\"Val Loss {val_loss:.4f}, Val Acc {val_acc:.4f}\")\n",
    "\n",
    "# 미세조정 후 테스트 평가\n",
    "test_loss, test_acc = evaluate_model(model, test_loader, criterion, device)\n",
    "print(f\"\\n미세조정 후 테스트 정확도: {test_acc:.4f}\")"
   ]
  },
  {
   "cell_type": "markdown",
   "metadata": {
    "id": "HDg7EcmFN4Qk"
   },
   "source": [
    "# 6. 학습 기록 시각화"
   ]
  },
  {
   "cell_type": "code",
   "execution_count": 10,
   "metadata": {
    "executionInfo": {
     "elapsed": 20,
     "status": "ok",
     "timestamp": 1738928881675,
     "user": {
      "displayName": "chioh song",
      "userId": "05482793768581925652"
     },
     "user_tz": -540
    },
    "id": "GwUgK94NHXUN"
   },
   "outputs": [
    {
     "data": {
      "image/png": "[encoded data removed]",
      "text/plain": [
       "<Figure size 1200x600 with 2 Axes>"
      ]
     },
     "metadata": {},
     "output_type": "display_data"
    }
   ],
   "source": [
    "def plot_history(train_losses, train_accs, val_losses, val_accs, title_prefix=\"\"):\n",
    "    plt.figure(figsize=(12,6))\n",
    "    plt.subplot(1,2,1)\n",
    "    plt.plot(train_accs, label='Training Accuracy')\n",
    "    plt.plot(val_accs, label='Validation Accuracy')\n",
    "    plt.xlabel(\"Epoch\")\n",
    "    plt.ylabel(\"Accuracy\")\n",
    "    plt.title(title_prefix + \"Training and Validation Accuracy\")\n",
    "    plt.legend()\n",
    "    \n",
    "    plt.subplot(1,2,2)\n",
    "    plt.plot(train_losses, label='Training Loss')\n",
    "    plt.plot(val_losses, label='Validation Loss')\n",
    "    plt.xlabel(\"Epoch\")\n",
    "    plt.ylabel(\"Loss\")\n",
    "    plt.title(title_prefix + \"Training and Validation Loss\")\n",
    "    plt.legend()\n",
    "    plt.show()\n",
    "\n",
    "# 전체 학습 기록 (전이학습 + 미세조정)\n",
    "plot_history(train_losses + train_losses_ft,\n",
    "             train_accs + train_accs_ft,\n",
    "             val_losses + val_losses_ft,\n",
    "             val_accs + val_accs_ft,\n",
    "             title_prefix=\"Overall \")"
   ]
  },
  {
   "cell_type": "markdown",
   "metadata": {
    "id": "Hj6Ht9GH9vok"
   },
   "source": [
    "- 학습이 굉장히 불안정함\n",
    "- 너무 간단하고 단순한 데이터에 정규화, 드랍아웃 등을 적용한 것이 오히려 역효과 난 것\n",
    "- 데이터가 많고 복잡한 경우에 정규화, 드랍아웃 등이 성능을 높이는 방안이 될 수 있음"
   ]
  }
 ],
 "metadata": {
  "accelerator": "GPU",
  "colab": {
   "gpuType": "A100",
   "machine_shape": "hm",
   "provenance": []
  },
  "kernelspec": {
   "display_name": "supernova",
   "language": "python",
   "name": "python3"
  },
  "language_info": {
   "codemirror_mode": {
    "name": "ipython",
    "version": 3
   },
   "file_extension": ".py",
   "mimetype": "text/x-python",
   "name": "python",
   "nbconvert_exporter": "python",
   "pygments_lexer": "ipython3",
   "version": "3.12.8"
  }
 },
 "nbformat": 4,
 "nbformat_minor": 0
}
